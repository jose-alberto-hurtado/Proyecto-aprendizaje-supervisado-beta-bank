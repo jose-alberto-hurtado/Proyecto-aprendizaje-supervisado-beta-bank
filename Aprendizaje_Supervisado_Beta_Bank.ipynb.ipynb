{
 "cells": [
  {
   "cell_type": "markdown",
   "metadata": {},
   "source": [
    "# Predicción de Retención de Clientes para Beta Bank"
   ]
  },
  {
   "cell_type": "markdown",
   "metadata": {},
   "source": [
    " \n",
    "\n",
    "## INTRODUCCIÓN:\n",
    "\n",
    "Beta Bank ha notado que pierde clientes poco a poco, al ser más económico salvar a los clientes existentes que atraer a nuevos clientes, la retención de clientes es la prioridad. Por esa razón el objetivo principal del proyecto es predecir si un cliente abandonara el banco en un futuro cercano.\n",
    "\n",
    "Para llevar a cabo lo anterior se cuenta con datos sobre el comportamiento pasado de los clientes y la terminación de contratos con el banco \n",
    "\n",
    "El objetivo especifico es crear un modelo de machine learning con el valor máximo F1 posible, alcanzando al menos un valor de 0.59 para comprobar al menos la revisión, la métrica que se utilizará es AUC-ROC para evaluar y compara el rendimiento del modelo\n",
    "\n",
    "    \n",
    "    "
   ]
  },
  {
   "cell_type": "code",
   "execution_count": 77,
   "metadata": {},
   "outputs": [],
   "source": [
    "#librerias usadas en el proyecto\n",
    "import pandas as pd\n",
    "import numpy as np\n",
    "from sklearn.model_selection import train_test_split\n",
    "from sklearn.linear_model import LogisticRegression\n",
    "from sklearn.metrics import f1_score\n",
    "from sklearn.ensemble import RandomForestClassifier\n",
    "from sklearn.ensemble import GradientBoostingClassifier\n",
    "from sklearn.tree import DecisionTreeClassifier\n",
    "from sklearn.utils import resample, shuffle\n",
    "from sklearn.metrics import roc_auc_score\n",
    "from xgboost import XGBClassifier\n",
    "from sklearn.model_selection import GridSearchCV\n",
    "from sklearn.preprocessing import StandardScaler\n",
    "import seaborn as sns\n",
    "import matplotlib.pyplot as plt\n",
    "from sklearn.metrics import roc_curve, auc"
   ]
  },
  {
   "cell_type": "markdown",
   "metadata": {},
   "source": [
    "######  cargar y explorar los datos"
   ]
  },
  {
   "cell_type": "code",
   "execution_count": 92,
   "metadata": {},
   "outputs": [
    {
     "data": {
      "text/html": [
       "<div>\n",
       "<style scoped>\n",
       "    .dataframe tbody tr th:only-of-type {\n",
       "        vertical-align: middle;\n",
       "    }\n",
       "\n",
       "    .dataframe tbody tr th {\n",
       "        vertical-align: top;\n",
       "    }\n",
       "\n",
       "    .dataframe thead th {\n",
       "        text-align: right;\n",
       "    }\n",
       "</style>\n",
       "<table border=\"1\" class=\"dataframe\">\n",
       "  <thead>\n",
       "    <tr style=\"text-align: right;\">\n",
       "      <th></th>\n",
       "      <th>RowNumber</th>\n",
       "      <th>CustomerId</th>\n",
       "      <th>Surname</th>\n",
       "      <th>CreditScore</th>\n",
       "      <th>Geography</th>\n",
       "      <th>Gender</th>\n",
       "      <th>Age</th>\n",
       "      <th>Tenure</th>\n",
       "      <th>Balance</th>\n",
       "      <th>NumOfProducts</th>\n",
       "      <th>HasCrCard</th>\n",
       "      <th>IsActiveMember</th>\n",
       "      <th>EstimatedSalary</th>\n",
       "      <th>Exited</th>\n",
       "    </tr>\n",
       "  </thead>\n",
       "  <tbody>\n",
       "    <tr>\n",
       "      <th>0</th>\n",
       "      <td>1</td>\n",
       "      <td>15634602</td>\n",
       "      <td>Hargrave</td>\n",
       "      <td>619</td>\n",
       "      <td>France</td>\n",
       "      <td>Female</td>\n",
       "      <td>42</td>\n",
       "      <td>2.0</td>\n",
       "      <td>0.00</td>\n",
       "      <td>1</td>\n",
       "      <td>1</td>\n",
       "      <td>1</td>\n",
       "      <td>101348.88</td>\n",
       "      <td>1</td>\n",
       "    </tr>\n",
       "    <tr>\n",
       "      <th>1</th>\n",
       "      <td>2</td>\n",
       "      <td>15647311</td>\n",
       "      <td>Hill</td>\n",
       "      <td>608</td>\n",
       "      <td>Spain</td>\n",
       "      <td>Female</td>\n",
       "      <td>41</td>\n",
       "      <td>1.0</td>\n",
       "      <td>83807.86</td>\n",
       "      <td>1</td>\n",
       "      <td>0</td>\n",
       "      <td>1</td>\n",
       "      <td>112542.58</td>\n",
       "      <td>0</td>\n",
       "    </tr>\n",
       "    <tr>\n",
       "      <th>2</th>\n",
       "      <td>3</td>\n",
       "      <td>15619304</td>\n",
       "      <td>Onio</td>\n",
       "      <td>502</td>\n",
       "      <td>France</td>\n",
       "      <td>Female</td>\n",
       "      <td>42</td>\n",
       "      <td>8.0</td>\n",
       "      <td>159660.80</td>\n",
       "      <td>3</td>\n",
       "      <td>1</td>\n",
       "      <td>0</td>\n",
       "      <td>113931.57</td>\n",
       "      <td>1</td>\n",
       "    </tr>\n",
       "    <tr>\n",
       "      <th>3</th>\n",
       "      <td>4</td>\n",
       "      <td>15701354</td>\n",
       "      <td>Boni</td>\n",
       "      <td>699</td>\n",
       "      <td>France</td>\n",
       "      <td>Female</td>\n",
       "      <td>39</td>\n",
       "      <td>1.0</td>\n",
       "      <td>0.00</td>\n",
       "      <td>2</td>\n",
       "      <td>0</td>\n",
       "      <td>0</td>\n",
       "      <td>93826.63</td>\n",
       "      <td>0</td>\n",
       "    </tr>\n",
       "    <tr>\n",
       "      <th>4</th>\n",
       "      <td>5</td>\n",
       "      <td>15737888</td>\n",
       "      <td>Mitchell</td>\n",
       "      <td>850</td>\n",
       "      <td>Spain</td>\n",
       "      <td>Female</td>\n",
       "      <td>43</td>\n",
       "      <td>2.0</td>\n",
       "      <td>125510.82</td>\n",
       "      <td>1</td>\n",
       "      <td>1</td>\n",
       "      <td>1</td>\n",
       "      <td>79084.10</td>\n",
       "      <td>0</td>\n",
       "    </tr>\n",
       "  </tbody>\n",
       "</table>\n",
       "</div>"
      ],
      "text/plain": [
       "   RowNumber  CustomerId   Surname  CreditScore Geography  Gender  Age  \\\n",
       "0          1    15634602  Hargrave          619    France  Female   42   \n",
       "1          2    15647311      Hill          608     Spain  Female   41   \n",
       "2          3    15619304      Onio          502    France  Female   42   \n",
       "3          4    15701354      Boni          699    France  Female   39   \n",
       "4          5    15737888  Mitchell          850     Spain  Female   43   \n",
       "\n",
       "   Tenure    Balance  NumOfProducts  HasCrCard  IsActiveMember  \\\n",
       "0     2.0       0.00              1          1               1   \n",
       "1     1.0   83807.86              1          0               1   \n",
       "2     8.0  159660.80              3          1               0   \n",
       "3     1.0       0.00              2          0               0   \n",
       "4     2.0  125510.82              1          1               1   \n",
       "\n",
       "   EstimatedSalary  Exited  \n",
       "0        101348.88       1  \n",
       "1        112542.58       0  \n",
       "2        113931.57       1  \n",
       "3         93826.63       0  \n",
       "4         79084.10       0  "
      ]
     },
     "execution_count": 92,
     "metadata": {},
     "output_type": "execute_result"
    }
   ],
   "source": [
    "data = pd.read_csv(\"/datasets/Churn.csv\")\n",
    "data.head(5)"
   ]
  },
  {
   "cell_type": "code",
   "execution_count": 79,
   "metadata": {},
   "outputs": [
    {
     "name": "stdout",
     "output_type": "stream",
     "text": [
      "<class 'pandas.core.frame.DataFrame'>\n",
      "RangeIndex: 10000 entries, 0 to 9999\n",
      "Data columns (total 14 columns):\n",
      " #   Column           Non-Null Count  Dtype  \n",
      "---  ------           --------------  -----  \n",
      " 0   RowNumber        10000 non-null  int64  \n",
      " 1   CustomerId       10000 non-null  int64  \n",
      " 2   Surname          10000 non-null  object \n",
      " 3   CreditScore      10000 non-null  int64  \n",
      " 4   Geography        10000 non-null  object \n",
      " 5   Gender           10000 non-null  object \n",
      " 6   Age              10000 non-null  int64  \n",
      " 7   Tenure           9091 non-null   float64\n",
      " 8   Balance          10000 non-null  float64\n",
      " 9   NumOfProducts    10000 non-null  int64  \n",
      " 10  HasCrCard        10000 non-null  int64  \n",
      " 11  IsActiveMember   10000 non-null  int64  \n",
      " 12  EstimatedSalary  10000 non-null  float64\n",
      " 13  Exited           10000 non-null  int64  \n",
      "dtypes: float64(3), int64(8), object(3)\n",
      "memory usage: 1.1+ MB\n"
     ]
    }
   ],
   "source": [
    "#información genereal del archivo\n",
    "data.info()"
   ]
  },
  {
   "cell_type": "code",
   "execution_count": 80,
   "metadata": {},
   "outputs": [
    {
     "data": {
      "text/html": [
       "<div>\n",
       "<style scoped>\n",
       "    .dataframe tbody tr th:only-of-type {\n",
       "        vertical-align: middle;\n",
       "    }\n",
       "\n",
       "    .dataframe tbody tr th {\n",
       "        vertical-align: top;\n",
       "    }\n",
       "\n",
       "    .dataframe thead th {\n",
       "        text-align: right;\n",
       "    }\n",
       "</style>\n",
       "<table border=\"1\" class=\"dataframe\">\n",
       "  <thead>\n",
       "    <tr style=\"text-align: right;\">\n",
       "      <th></th>\n",
       "      <th>RowNumber</th>\n",
       "      <th>CustomerId</th>\n",
       "      <th>CreditScore</th>\n",
       "      <th>Age</th>\n",
       "      <th>Tenure</th>\n",
       "      <th>Balance</th>\n",
       "      <th>NumOfProducts</th>\n",
       "      <th>HasCrCard</th>\n",
       "      <th>IsActiveMember</th>\n",
       "      <th>EstimatedSalary</th>\n",
       "      <th>Exited</th>\n",
       "    </tr>\n",
       "  </thead>\n",
       "  <tbody>\n",
       "    <tr>\n",
       "      <th>count</th>\n",
       "      <td>10000.00000</td>\n",
       "      <td>1.000000e+04</td>\n",
       "      <td>10000.000000</td>\n",
       "      <td>10000.000000</td>\n",
       "      <td>9091.000000</td>\n",
       "      <td>10000.000000</td>\n",
       "      <td>10000.000000</td>\n",
       "      <td>10000.00000</td>\n",
       "      <td>10000.000000</td>\n",
       "      <td>10000.000000</td>\n",
       "      <td>10000.000000</td>\n",
       "    </tr>\n",
       "    <tr>\n",
       "      <th>mean</th>\n",
       "      <td>5000.50000</td>\n",
       "      <td>1.569094e+07</td>\n",
       "      <td>650.528800</td>\n",
       "      <td>38.921800</td>\n",
       "      <td>4.997690</td>\n",
       "      <td>76485.889288</td>\n",
       "      <td>1.530200</td>\n",
       "      <td>0.70550</td>\n",
       "      <td>0.515100</td>\n",
       "      <td>100090.239881</td>\n",
       "      <td>0.203700</td>\n",
       "    </tr>\n",
       "    <tr>\n",
       "      <th>std</th>\n",
       "      <td>2886.89568</td>\n",
       "      <td>7.193619e+04</td>\n",
       "      <td>96.653299</td>\n",
       "      <td>10.487806</td>\n",
       "      <td>2.894723</td>\n",
       "      <td>62397.405202</td>\n",
       "      <td>0.581654</td>\n",
       "      <td>0.45584</td>\n",
       "      <td>0.499797</td>\n",
       "      <td>57510.492818</td>\n",
       "      <td>0.402769</td>\n",
       "    </tr>\n",
       "    <tr>\n",
       "      <th>min</th>\n",
       "      <td>1.00000</td>\n",
       "      <td>1.556570e+07</td>\n",
       "      <td>350.000000</td>\n",
       "      <td>18.000000</td>\n",
       "      <td>0.000000</td>\n",
       "      <td>0.000000</td>\n",
       "      <td>1.000000</td>\n",
       "      <td>0.00000</td>\n",
       "      <td>0.000000</td>\n",
       "      <td>11.580000</td>\n",
       "      <td>0.000000</td>\n",
       "    </tr>\n",
       "    <tr>\n",
       "      <th>25%</th>\n",
       "      <td>2500.75000</td>\n",
       "      <td>1.562853e+07</td>\n",
       "      <td>584.000000</td>\n",
       "      <td>32.000000</td>\n",
       "      <td>2.000000</td>\n",
       "      <td>0.000000</td>\n",
       "      <td>1.000000</td>\n",
       "      <td>0.00000</td>\n",
       "      <td>0.000000</td>\n",
       "      <td>51002.110000</td>\n",
       "      <td>0.000000</td>\n",
       "    </tr>\n",
       "    <tr>\n",
       "      <th>50%</th>\n",
       "      <td>5000.50000</td>\n",
       "      <td>1.569074e+07</td>\n",
       "      <td>652.000000</td>\n",
       "      <td>37.000000</td>\n",
       "      <td>5.000000</td>\n",
       "      <td>97198.540000</td>\n",
       "      <td>1.000000</td>\n",
       "      <td>1.00000</td>\n",
       "      <td>1.000000</td>\n",
       "      <td>100193.915000</td>\n",
       "      <td>0.000000</td>\n",
       "    </tr>\n",
       "    <tr>\n",
       "      <th>75%</th>\n",
       "      <td>7500.25000</td>\n",
       "      <td>1.575323e+07</td>\n",
       "      <td>718.000000</td>\n",
       "      <td>44.000000</td>\n",
       "      <td>7.000000</td>\n",
       "      <td>127644.240000</td>\n",
       "      <td>2.000000</td>\n",
       "      <td>1.00000</td>\n",
       "      <td>1.000000</td>\n",
       "      <td>149388.247500</td>\n",
       "      <td>0.000000</td>\n",
       "    </tr>\n",
       "    <tr>\n",
       "      <th>max</th>\n",
       "      <td>10000.00000</td>\n",
       "      <td>1.581569e+07</td>\n",
       "      <td>850.000000</td>\n",
       "      <td>92.000000</td>\n",
       "      <td>10.000000</td>\n",
       "      <td>250898.090000</td>\n",
       "      <td>4.000000</td>\n",
       "      <td>1.00000</td>\n",
       "      <td>1.000000</td>\n",
       "      <td>199992.480000</td>\n",
       "      <td>1.000000</td>\n",
       "    </tr>\n",
       "  </tbody>\n",
       "</table>\n",
       "</div>"
      ],
      "text/plain": [
       "         RowNumber    CustomerId   CreditScore           Age       Tenure  \\\n",
       "count  10000.00000  1.000000e+04  10000.000000  10000.000000  9091.000000   \n",
       "mean    5000.50000  1.569094e+07    650.528800     38.921800     4.997690   \n",
       "std     2886.89568  7.193619e+04     96.653299     10.487806     2.894723   \n",
       "min        1.00000  1.556570e+07    350.000000     18.000000     0.000000   \n",
       "25%     2500.75000  1.562853e+07    584.000000     32.000000     2.000000   \n",
       "50%     5000.50000  1.569074e+07    652.000000     37.000000     5.000000   \n",
       "75%     7500.25000  1.575323e+07    718.000000     44.000000     7.000000   \n",
       "max    10000.00000  1.581569e+07    850.000000     92.000000    10.000000   \n",
       "\n",
       "             Balance  NumOfProducts    HasCrCard  IsActiveMember  \\\n",
       "count   10000.000000   10000.000000  10000.00000    10000.000000   \n",
       "mean    76485.889288       1.530200      0.70550        0.515100   \n",
       "std     62397.405202       0.581654      0.45584        0.499797   \n",
       "min         0.000000       1.000000      0.00000        0.000000   \n",
       "25%         0.000000       1.000000      0.00000        0.000000   \n",
       "50%     97198.540000       1.000000      1.00000        1.000000   \n",
       "75%    127644.240000       2.000000      1.00000        1.000000   \n",
       "max    250898.090000       4.000000      1.00000        1.000000   \n",
       "\n",
       "       EstimatedSalary        Exited  \n",
       "count     10000.000000  10000.000000  \n",
       "mean     100090.239881      0.203700  \n",
       "std       57510.492818      0.402769  \n",
       "min          11.580000      0.000000  \n",
       "25%       51002.110000      0.000000  \n",
       "50%      100193.915000      0.000000  \n",
       "75%      149388.247500      0.000000  \n",
       "max      199992.480000      1.000000  "
      ]
     },
     "execution_count": 80,
     "metadata": {},
     "output_type": "execute_result"
    }
   ],
   "source": [
    "data.describe()"
   ]
  },
  {
   "cell_type": "code",
   "execution_count": 81,
   "metadata": {},
   "outputs": [
    {
     "data": {
      "text/plain": [
       "Index(['rownumber', 'customerid', 'surname', 'creditscore', 'geography',\n",
       "       'gender', 'age', 'tenure', 'balance', 'numofproducts', 'hascrcard',\n",
       "       'isactivemember', 'estimatedsalary', 'exited'],\n",
       "      dtype='object')"
      ]
     },
     "execution_count": 81,
     "metadata": {},
     "output_type": "execute_result"
    }
   ],
   "source": [
    "#se cambia a minusculas el nombre de las columnas\n",
    "data.columns= data.columns.str.lower()\n",
    "data.columns"
   ]
  },
  {
   "cell_type": "code",
   "execution_count": 82,
   "metadata": {},
   "outputs": [
    {
     "name": "stdout",
     "output_type": "stream",
     "text": [
      "\n"
     ]
    },
    {
     "data": {
      "text/html": [
       "<div>\n",
       "<style scoped>\n",
       "    .dataframe tbody tr th:only-of-type {\n",
       "        vertical-align: middle;\n",
       "    }\n",
       "\n",
       "    .dataframe tbody tr th {\n",
       "        vertical-align: top;\n",
       "    }\n",
       "\n",
       "    .dataframe thead th {\n",
       "        text-align: right;\n",
       "    }\n",
       "</style>\n",
       "<table border=\"1\" class=\"dataframe\">\n",
       "  <thead>\n",
       "    <tr style=\"text-align: right;\">\n",
       "      <th></th>\n",
       "      <th>rownumber</th>\n",
       "      <th>customerid</th>\n",
       "      <th>surname</th>\n",
       "      <th>creditscore</th>\n",
       "      <th>geography</th>\n",
       "      <th>gender</th>\n",
       "      <th>age</th>\n",
       "      <th>tenure</th>\n",
       "      <th>balance</th>\n",
       "      <th>numofproducts</th>\n",
       "      <th>hascrcard</th>\n",
       "      <th>isactivemember</th>\n",
       "      <th>estimatedsalary</th>\n",
       "      <th>exited</th>\n",
       "    </tr>\n",
       "  </thead>\n",
       "  <tbody>\n",
       "    <tr>\n",
       "      <th>30</th>\n",
       "      <td>31</td>\n",
       "      <td>15589475</td>\n",
       "      <td>Azikiwe</td>\n",
       "      <td>591</td>\n",
       "      <td>Spain</td>\n",
       "      <td>Female</td>\n",
       "      <td>39</td>\n",
       "      <td>NaN</td>\n",
       "      <td>0.00</td>\n",
       "      <td>3</td>\n",
       "      <td>1</td>\n",
       "      <td>0</td>\n",
       "      <td>140469.38</td>\n",
       "      <td>1</td>\n",
       "    </tr>\n",
       "    <tr>\n",
       "      <th>48</th>\n",
       "      <td>49</td>\n",
       "      <td>15766205</td>\n",
       "      <td>Yin</td>\n",
       "      <td>550</td>\n",
       "      <td>Germany</td>\n",
       "      <td>Male</td>\n",
       "      <td>38</td>\n",
       "      <td>NaN</td>\n",
       "      <td>103391.38</td>\n",
       "      <td>1</td>\n",
       "      <td>0</td>\n",
       "      <td>1</td>\n",
       "      <td>90878.13</td>\n",
       "      <td>0</td>\n",
       "    </tr>\n",
       "    <tr>\n",
       "      <th>51</th>\n",
       "      <td>52</td>\n",
       "      <td>15768193</td>\n",
       "      <td>Trevisani</td>\n",
       "      <td>585</td>\n",
       "      <td>Germany</td>\n",
       "      <td>Male</td>\n",
       "      <td>36</td>\n",
       "      <td>NaN</td>\n",
       "      <td>146050.97</td>\n",
       "      <td>2</td>\n",
       "      <td>0</td>\n",
       "      <td>0</td>\n",
       "      <td>86424.57</td>\n",
       "      <td>0</td>\n",
       "    </tr>\n",
       "    <tr>\n",
       "      <th>53</th>\n",
       "      <td>54</td>\n",
       "      <td>15702298</td>\n",
       "      <td>Parkhill</td>\n",
       "      <td>655</td>\n",
       "      <td>Germany</td>\n",
       "      <td>Male</td>\n",
       "      <td>41</td>\n",
       "      <td>NaN</td>\n",
       "      <td>125561.97</td>\n",
       "      <td>1</td>\n",
       "      <td>0</td>\n",
       "      <td>0</td>\n",
       "      <td>164040.94</td>\n",
       "      <td>1</td>\n",
       "    </tr>\n",
       "    <tr>\n",
       "      <th>60</th>\n",
       "      <td>61</td>\n",
       "      <td>15651280</td>\n",
       "      <td>Hunter</td>\n",
       "      <td>742</td>\n",
       "      <td>Germany</td>\n",
       "      <td>Male</td>\n",
       "      <td>35</td>\n",
       "      <td>NaN</td>\n",
       "      <td>136857.00</td>\n",
       "      <td>1</td>\n",
       "      <td>0</td>\n",
       "      <td>0</td>\n",
       "      <td>84509.57</td>\n",
       "      <td>0</td>\n",
       "    </tr>\n",
       "    <tr>\n",
       "      <th>...</th>\n",
       "      <td>...</td>\n",
       "      <td>...</td>\n",
       "      <td>...</td>\n",
       "      <td>...</td>\n",
       "      <td>...</td>\n",
       "      <td>...</td>\n",
       "      <td>...</td>\n",
       "      <td>...</td>\n",
       "      <td>...</td>\n",
       "      <td>...</td>\n",
       "      <td>...</td>\n",
       "      <td>...</td>\n",
       "      <td>...</td>\n",
       "      <td>...</td>\n",
       "    </tr>\n",
       "    <tr>\n",
       "      <th>9944</th>\n",
       "      <td>9945</td>\n",
       "      <td>15703923</td>\n",
       "      <td>Cameron</td>\n",
       "      <td>744</td>\n",
       "      <td>Germany</td>\n",
       "      <td>Male</td>\n",
       "      <td>41</td>\n",
       "      <td>NaN</td>\n",
       "      <td>190409.34</td>\n",
       "      <td>2</td>\n",
       "      <td>1</td>\n",
       "      <td>1</td>\n",
       "      <td>138361.48</td>\n",
       "      <td>0</td>\n",
       "    </tr>\n",
       "    <tr>\n",
       "      <th>9956</th>\n",
       "      <td>9957</td>\n",
       "      <td>15707861</td>\n",
       "      <td>Nucci</td>\n",
       "      <td>520</td>\n",
       "      <td>France</td>\n",
       "      <td>Female</td>\n",
       "      <td>46</td>\n",
       "      <td>NaN</td>\n",
       "      <td>85216.61</td>\n",
       "      <td>1</td>\n",
       "      <td>1</td>\n",
       "      <td>0</td>\n",
       "      <td>117369.52</td>\n",
       "      <td>1</td>\n",
       "    </tr>\n",
       "    <tr>\n",
       "      <th>9964</th>\n",
       "      <td>9965</td>\n",
       "      <td>15642785</td>\n",
       "      <td>Douglas</td>\n",
       "      <td>479</td>\n",
       "      <td>France</td>\n",
       "      <td>Male</td>\n",
       "      <td>34</td>\n",
       "      <td>NaN</td>\n",
       "      <td>117593.48</td>\n",
       "      <td>2</td>\n",
       "      <td>0</td>\n",
       "      <td>0</td>\n",
       "      <td>113308.29</td>\n",
       "      <td>0</td>\n",
       "    </tr>\n",
       "    <tr>\n",
       "      <th>9985</th>\n",
       "      <td>9986</td>\n",
       "      <td>15586914</td>\n",
       "      <td>Nepean</td>\n",
       "      <td>659</td>\n",
       "      <td>France</td>\n",
       "      <td>Male</td>\n",
       "      <td>36</td>\n",
       "      <td>NaN</td>\n",
       "      <td>123841.49</td>\n",
       "      <td>2</td>\n",
       "      <td>1</td>\n",
       "      <td>0</td>\n",
       "      <td>96833.00</td>\n",
       "      <td>0</td>\n",
       "    </tr>\n",
       "    <tr>\n",
       "      <th>9999</th>\n",
       "      <td>10000</td>\n",
       "      <td>15628319</td>\n",
       "      <td>Walker</td>\n",
       "      <td>792</td>\n",
       "      <td>France</td>\n",
       "      <td>Female</td>\n",
       "      <td>28</td>\n",
       "      <td>NaN</td>\n",
       "      <td>130142.79</td>\n",
       "      <td>1</td>\n",
       "      <td>1</td>\n",
       "      <td>0</td>\n",
       "      <td>38190.78</td>\n",
       "      <td>0</td>\n",
       "    </tr>\n",
       "  </tbody>\n",
       "</table>\n",
       "<p>909 rows × 14 columns</p>\n",
       "</div>"
      ],
      "text/plain": [
       "      rownumber  customerid    surname  creditscore geography  gender  age  \\\n",
       "30           31    15589475    Azikiwe          591     Spain  Female   39   \n",
       "48           49    15766205        Yin          550   Germany    Male   38   \n",
       "51           52    15768193  Trevisani          585   Germany    Male   36   \n",
       "53           54    15702298   Parkhill          655   Germany    Male   41   \n",
       "60           61    15651280     Hunter          742   Germany    Male   35   \n",
       "...         ...         ...        ...          ...       ...     ...  ...   \n",
       "9944       9945    15703923    Cameron          744   Germany    Male   41   \n",
       "9956       9957    15707861      Nucci          520    France  Female   46   \n",
       "9964       9965    15642785    Douglas          479    France    Male   34   \n",
       "9985       9986    15586914     Nepean          659    France    Male   36   \n",
       "9999      10000    15628319     Walker          792    France  Female   28   \n",
       "\n",
       "      tenure    balance  numofproducts  hascrcard  isactivemember  \\\n",
       "30       NaN       0.00              3          1               0   \n",
       "48       NaN  103391.38              1          0               1   \n",
       "51       NaN  146050.97              2          0               0   \n",
       "53       NaN  125561.97              1          0               0   \n",
       "60       NaN  136857.00              1          0               0   \n",
       "...      ...        ...            ...        ...             ...   \n",
       "9944     NaN  190409.34              2          1               1   \n",
       "9956     NaN   85216.61              1          1               0   \n",
       "9964     NaN  117593.48              2          0               0   \n",
       "9985     NaN  123841.49              2          1               0   \n",
       "9999     NaN  130142.79              1          1               0   \n",
       "\n",
       "      estimatedsalary  exited  \n",
       "30          140469.38       1  \n",
       "48           90878.13       0  \n",
       "51           86424.57       0  \n",
       "53          164040.94       1  \n",
       "60           84509.57       0  \n",
       "...               ...     ...  \n",
       "9944        138361.48       0  \n",
       "9956        117369.52       1  \n",
       "9964        113308.29       0  \n",
       "9985         96833.00       0  \n",
       "9999         38190.78       0  \n",
       "\n",
       "[909 rows x 14 columns]"
      ]
     },
     "execution_count": 82,
     "metadata": {},
     "output_type": "execute_result"
    }
   ],
   "source": [
    "#verificar nulos\n",
    "data.isnull().sum()\n",
    "print()\n",
    "data[data.isnull().any(axis= 1)]"
   ]
  },
  {
   "cell_type": "code",
   "execution_count": 83,
   "metadata": {},
   "outputs": [
    {
     "name": "stdout",
     "output_type": "stream",
     "text": [
      "rownumber          0\n",
      "customerid         0\n",
      "surname            0\n",
      "creditscore        0\n",
      "geography          0\n",
      "gender             0\n",
      "age                0\n",
      "tenure             0\n",
      "balance            0\n",
      "numofproducts      0\n",
      "hascrcard          0\n",
      "isactivemember     0\n",
      "estimatedsalary    0\n",
      "exited             0\n",
      "dtype: int64\n"
     ]
    }
   ],
   "source": [
    "#al tener datos repetidos, se va usar la mediana, para no peder información, por los los valores nulos\n",
    "data[\"tenure\"] = data[\"tenure\"].fillna(data[\"tenure\"].median())\n",
    "\n",
    "#se verifica que los valores nulos sean eliminados\n",
    "print(data.isnull().sum())"
   ]
  },
  {
   "cell_type": "code",
   "execution_count": 84,
   "metadata": {},
   "outputs": [
    {
     "data": {
      "text/plain": [
       "0"
      ]
     },
     "execution_count": 84,
     "metadata": {},
     "output_type": "execute_result"
    }
   ],
   "source": [
    "# no contiene duplicados\n",
    "data.duplicated().sum()\n"
   ]
  },
  {
   "cell_type": "code",
   "execution_count": 85,
   "metadata": {},
   "outputs": [
    {
     "name": "stdout",
     "output_type": "stream",
     "text": [
      "Index(['creditscore', 'geography', 'gender', 'age', 'tenure', 'balance',\n",
      "       'numofproducts', 'hascrcard', 'isactivemember', 'estimatedsalary',\n",
      "       'exited'],\n",
      "      dtype='object')\n"
     ]
    }
   ],
   "source": [
    "#se eliminan las columnas que no son necesarias para el modelo\n",
    "data= data.drop(columns= [\"rownumber\", \"customerid\", \"surname\"])\n",
    "print(data.columns)"
   ]
  },
  {
   "cell_type": "code",
   "execution_count": 86,
   "metadata": {},
   "outputs": [
    {
     "data": {
      "text/html": [
       "<div>\n",
       "<style scoped>\n",
       "    .dataframe tbody tr th:only-of-type {\n",
       "        vertical-align: middle;\n",
       "    }\n",
       "\n",
       "    .dataframe tbody tr th {\n",
       "        vertical-align: top;\n",
       "    }\n",
       "\n",
       "    .dataframe thead th {\n",
       "        text-align: right;\n",
       "    }\n",
       "</style>\n",
       "<table border=\"1\" class=\"dataframe\">\n",
       "  <thead>\n",
       "    <tr style=\"text-align: right;\">\n",
       "      <th></th>\n",
       "      <th>creditscore</th>\n",
       "      <th>age</th>\n",
       "      <th>tenure</th>\n",
       "      <th>balance</th>\n",
       "      <th>numofproducts</th>\n",
       "      <th>hascrcard</th>\n",
       "      <th>isactivemember</th>\n",
       "      <th>estimatedsalary</th>\n",
       "      <th>exited</th>\n",
       "      <th>geography_Germany</th>\n",
       "      <th>geography_Spain</th>\n",
       "      <th>gender_Male</th>\n",
       "    </tr>\n",
       "  </thead>\n",
       "  <tbody>\n",
       "    <tr>\n",
       "      <th>0</th>\n",
       "      <td>619</td>\n",
       "      <td>42</td>\n",
       "      <td>2.0</td>\n",
       "      <td>0.00</td>\n",
       "      <td>1</td>\n",
       "      <td>1</td>\n",
       "      <td>1</td>\n",
       "      <td>101348.88</td>\n",
       "      <td>1</td>\n",
       "      <td>0</td>\n",
       "      <td>0</td>\n",
       "      <td>0</td>\n",
       "    </tr>\n",
       "    <tr>\n",
       "      <th>1</th>\n",
       "      <td>608</td>\n",
       "      <td>41</td>\n",
       "      <td>1.0</td>\n",
       "      <td>83807.86</td>\n",
       "      <td>1</td>\n",
       "      <td>0</td>\n",
       "      <td>1</td>\n",
       "      <td>112542.58</td>\n",
       "      <td>0</td>\n",
       "      <td>0</td>\n",
       "      <td>1</td>\n",
       "      <td>0</td>\n",
       "    </tr>\n",
       "    <tr>\n",
       "      <th>2</th>\n",
       "      <td>502</td>\n",
       "      <td>42</td>\n",
       "      <td>8.0</td>\n",
       "      <td>159660.80</td>\n",
       "      <td>3</td>\n",
       "      <td>1</td>\n",
       "      <td>0</td>\n",
       "      <td>113931.57</td>\n",
       "      <td>1</td>\n",
       "      <td>0</td>\n",
       "      <td>0</td>\n",
       "      <td>0</td>\n",
       "    </tr>\n",
       "    <tr>\n",
       "      <th>3</th>\n",
       "      <td>699</td>\n",
       "      <td>39</td>\n",
       "      <td>1.0</td>\n",
       "      <td>0.00</td>\n",
       "      <td>2</td>\n",
       "      <td>0</td>\n",
       "      <td>0</td>\n",
       "      <td>93826.63</td>\n",
       "      <td>0</td>\n",
       "      <td>0</td>\n",
       "      <td>0</td>\n",
       "      <td>0</td>\n",
       "    </tr>\n",
       "    <tr>\n",
       "      <th>4</th>\n",
       "      <td>850</td>\n",
       "      <td>43</td>\n",
       "      <td>2.0</td>\n",
       "      <td>125510.82</td>\n",
       "      <td>1</td>\n",
       "      <td>1</td>\n",
       "      <td>1</td>\n",
       "      <td>79084.10</td>\n",
       "      <td>0</td>\n",
       "      <td>0</td>\n",
       "      <td>1</td>\n",
       "      <td>0</td>\n",
       "    </tr>\n",
       "  </tbody>\n",
       "</table>\n",
       "</div>"
      ],
      "text/plain": [
       "   creditscore  age  tenure    balance  numofproducts  hascrcard  \\\n",
       "0          619   42     2.0       0.00              1          1   \n",
       "1          608   41     1.0   83807.86              1          0   \n",
       "2          502   42     8.0  159660.80              3          1   \n",
       "3          699   39     1.0       0.00              2          0   \n",
       "4          850   43     2.0  125510.82              1          1   \n",
       "\n",
       "   isactivemember  estimatedsalary  exited  geography_Germany  \\\n",
       "0               1        101348.88       1                  0   \n",
       "1               1        112542.58       0                  0   \n",
       "2               0        113931.57       1                  0   \n",
       "3               0         93826.63       0                  0   \n",
       "4               1         79084.10       0                  0   \n",
       "\n",
       "   geography_Spain  gender_Male  \n",
       "0                0            0  \n",
       "1                1            0  \n",
       "2                0            0  \n",
       "3                0            0  \n",
       "4                1            0  "
      ]
     },
     "execution_count": 86,
     "metadata": {},
     "output_type": "execute_result"
    }
   ],
   "source": [
    "#convertir columnas categoricas a númericas O.H.E especificamente para las columnas \"geography\"  y \"gender\"\n",
    "data = pd.get_dummies(data, drop_first= True)\n",
    "data.head(5)"
   ]
  },
  {
   "cell_type": "markdown",
   "metadata": {},
   "source": [
    "Conclusión\n",
    "\n",
    "Después de explorar y limpiar los datos, se identificaron 909 filas con valores nulos en la columna tenure.\n",
    "\n",
    "Estos valores fueron rellenados utilizando la mediana, ya que es una mejor estrategia que borrar los datos faltantes.\n",
    "\n",
    "Se eliminaron columnas irrelevantes para el análisis, como rownumber, customerid, y surname.\n",
    "\n",
    "Se convirtieron las variables categóricas (geography y gender) en variables númicas usando dummy para su uso en modelos de machine learning."
   ]
  },
  {
   "cell_type": "markdown",
   "metadata": {},
   "source": [
    "###### División del Dataset"
   ]
  },
  {
   "cell_type": "code",
   "execution_count": 11,
   "metadata": {},
   "outputs": [],
   "source": [
    "#separar caracteristicas \"features\" y objetivo\"target\"  \n",
    "\n",
    "features = data.drop([\"exited\"], axis=1)\n",
    "\n",
    "target = data[\"exited\"]"
   ]
  },
  {
   "cell_type": "code",
   "execution_count": 12,
   "metadata": {},
   "outputs": [
    {
     "name": "stdout",
     "output_type": "stream",
     "text": [
      "Tamaño del Conjunto Entrenamiento: (6000, 11)\n",
      "Tamaño del Conjunto de Validación: (2000, 11)\n"
     ]
    }
   ],
   "source": [
    "#dividir los datos de entrenamiento y validacion\n",
    "features_train, features_temp, target_train, target_temp = train_test_split(features, target, test_size=0.4, random_state=42)\n",
    "features_valid, features_test, target_valid, target_test = train_test_split(features_temp, target_temp, test_size=0.5, random_state=42)\n",
    "\n",
    "print(\"Tamaño del Conjunto Entrenamiento:\", features_train.shape)\n",
    "print(\"Tamaño del Conjunto de Validación:\", features_valid.shape)"
   ]
  },
  {
   "cell_type": "code",
   "execution_count": 13,
   "metadata": {},
   "outputs": [
    {
     "name": "stdout",
     "output_type": "stream",
     "text": [
      "Tamaño del Conjunto Entrenamiento: (6000, 11)\n",
      "Tamaño del Conjunto de Validación: (2000, 11)\n",
      "Tamaño del Conjunto de Prueba: (2000, 11)\n"
     ]
    }
   ],
   "source": [
    "#normalización \n",
    "scaler = StandardScaler()\n",
    "\n",
    "features_train = scaler.fit_transform(features_train)\n",
    "features_valid = scaler.transform(features_valid)\n",
    "features_test = scaler.transform(features_test)\n",
    "\n",
    "#verificar los tamaños de los conjuntos\n",
    "print(\"Tamaño del Conjunto Entrenamiento:\", features_train.shape)\n",
    "print(\"Tamaño del Conjunto de Validación:\", features_valid.shape)\n",
    "print(\"Tamaño del Conjunto de Prueba:\", features_test.shape)"
   ]
  },
  {
   "cell_type": "markdown",
   "metadata": {},
   "source": [
    "CONCLUSION \n",
    "\n",
    "Se separaron las características (features) del objetivo (target). Posteriormente, se dividieron los datos en conjuntos de entrenamiento:\n",
    "\n",
    "60% para entrenamiento.\n",
    "\n",
    "20% para validación.\n",
    "\n",
    "20% para prueba.\n",
    "\n",
    "se aplicó una normalización a las características, utilizando StandardScaler, para asegurar que todas las variables tengan una escala comparable, lo cual ayuda al aprendizaje automático."
   ]
  },
  {
   "cell_type": "markdown",
   "metadata": {},
   "source": [
    "###### Entrenamiento de modelos iniciales"
   ]
  },
  {
   "cell_type": "markdown",
   "metadata": {},
   "source": [
    "MOELO DE REFRESIÓN LOGISTICA"
   ]
  },
  {
   "cell_type": "code",
   "execution_count": 14,
   "metadata": {},
   "outputs": [
    {
     "data": {
      "text/plain": [
       "LogisticRegression(random_state=12345, solver='liblinear')"
      ]
     },
     "execution_count": 14,
     "metadata": {},
     "output_type": "execute_result"
    }
   ],
   "source": [
    "#entrenamineto de modelo de Regresión logistoca\n",
    "\n",
    "model_lr = LogisticRegression(random_state=12345, solver=\"liblinear\")\n",
    "model_lr.fit(features_train, target_train)"
   ]
  },
  {
   "cell_type": "code",
   "execution_count": 15,
   "metadata": {},
   "outputs": [],
   "source": [
    "#prediciones en el conjunto de validacion\n",
    "prediccion_lr = model_lr.predict(features_valid)"
   ]
  },
  {
   "cell_type": "code",
   "execution_count": 16,
   "metadata": {},
   "outputs": [
    {
     "name": "stdout",
     "output_type": "stream",
     "text": [
      "F1 Score (Regresión Logística): 0.30268199233716475\n",
      "ROC AUC Score (Regresión Logística): 0.7520077972709552\n"
     ]
    }
   ],
   "source": [
    "#evaluar el modelo con F1\n",
    "f1_lr = f1_score(target_valid, prediccion_lr)\n",
    "roc_auc_lr = roc_auc_score(target_valid, model_lr.predict_proba(features_valid)[:, 1])\n",
    "\n",
    "print(\"F1 Score (Regresión Logística):\", f1_lr)\n",
    "print(\"ROC AUC Score (Regresión Logística):\", roc_auc_lr)\n"
   ]
  },
  {
   "cell_type": "markdown",
   "metadata": {},
   "source": [
    "Conclusión:\n",
    "El modelo de regresión logística mostró un F1 Score de 0.3027 y un ROC AUC de 0.7520, su capacidad para equilibrar precisión es baja. Esto sugiere que el modelo de regresión no el adecuado."
   ]
  },
  {
   "cell_type": "markdown",
   "metadata": {},
   "source": [
    "MODELO RANDOM FOREST"
   ]
  },
  {
   "cell_type": "code",
   "execution_count": 17,
   "metadata": {},
   "outputs": [],
   "source": [
    "#modelo de Random Forest\n",
    "\n",
    "model_rf = RandomForestClassifier(random_state=12345)\n",
    "model_rf.fit(features_train, target_train)\n",
    "# Predicciones en el conjunto de validación\n",
    "prediccion_rf = model_rf.predict(features_valid)"
   ]
  },
  {
   "cell_type": "code",
   "execution_count": 18,
   "metadata": {},
   "outputs": [
    {
     "name": "stdout",
     "output_type": "stream",
     "text": [
      "F1 Score (Random Forest): 0.5575364667747164\n",
      "ROC AUC Score (Random Forest): 0.8264433073424301\n"
     ]
    }
   ],
   "source": [
    "#evaluar el modelo con F1\n",
    "f1_rf = f1_score(target_valid, prediccion_rf)\n",
    "roc_auc_rf = roc_auc_score(target_valid, model_rf.predict_proba(features_valid)[:, 1])\n",
    "\n",
    "print(\"F1 Score (Random Forest):\", f1_rf)\n",
    "print(\"ROC AUC Score (Random Forest):\", roc_auc_rf)"
   ]
  },
  {
   "cell_type": "markdown",
   "metadata": {},
   "source": [
    "Conclusión:\n",
    "El modelo Random Forest mejoró significativamente en comparación con la regresión logística, con un F1 Score de 0.5575 y un ROC AUC de 0.8264. Sin embargo, el F1 Score sigue por debajo del umbral requerido de 0.59."
   ]
  },
  {
   "cell_type": "markdown",
   "metadata": {},
   "source": [
    "MODELO XGBOOST"
   ]
  },
  {
   "cell_type": "code",
   "execution_count": 19,
   "metadata": {},
   "outputs": [
    {
     "name": "stdout",
     "output_type": "stream",
     "text": [
      "F1 Score (XGBoost): 0.5396341463414634\n",
      "ROC AUC Score (XGBoost): 0.8234584145549058\n"
     ]
    }
   ],
   "source": [
    "#Modelo XGBoost\n",
    "model_xgb = XGBClassifier(random_state=12345, use_label_encoder=False, eval_metric='logloss')\n",
    "\n",
    "model_xgb.fit(features_train, target_train)\n",
    "\n",
    "#Predicciones de validación\n",
    "prediccion_xgb = model_xgb.predict(features_valid)\n",
    "\n",
    "#Modelo con F1\n",
    "f1_xgb = f1_score(target_valid, prediccion_xgb)\n",
    "roc_auc_xgb = roc_auc_score(target_valid, model_xgb.predict_proba(features_valid)[:, 1])\n",
    "\n",
    "print(\"F1 Score (XGBoost):\", f1_xgb)\n",
    "print(\"ROC AUC Score (XGBoost):\", roc_auc_xgb)\n"
   ]
  },
  {
   "cell_type": "markdown",
   "metadata": {},
   "source": [
    "Conclusión:\n",
    "El modelo XGBoost obtuvo un F1 Score de 0.5396 y un ROC AUC de 0.8235, ligeramente inferior al modelo Random Forest en términos de F1 Score, pero con un rendimiento similar en ROC AUC. Aunque no superó a Random Forest por lo que también se descarta."
   ]
  },
  {
   "cell_type": "markdown",
   "metadata": {},
   "source": [
    "###### Optimización de Hiperparametros con  MODELOS GBOOST Y GRIDSEARCHCV"
   ]
  },
  {
   "cell_type": "code",
   "execution_count": 20,
   "metadata": {},
   "outputs": [
    {
     "name": "stdout",
     "output_type": "stream",
     "text": [
      "Fitting 3 folds for each of 108 candidates, totalling 324 fits\n",
      "[CV] END colsample_bytree=0.8, learning_rate=0.01, max_depth=3, n_estimators=100, subsample=0.8; total time=   1.2s\n",
      "[CV] END colsample_bytree=0.8, learning_rate=0.01, max_depth=3, n_estimators=100, subsample=0.8; total time=   1.2s\n",
      "[CV] END colsample_bytree=0.8, learning_rate=0.01, max_depth=3, n_estimators=100, subsample=0.8; total time=   1.2s\n",
      "[CV] END colsample_bytree=0.8, learning_rate=0.01, max_depth=3, n_estimators=100, subsample=1.0; total time=   1.2s\n",
      "[CV] END colsample_bytree=0.8, learning_rate=0.01, max_depth=3, n_estimators=100, subsample=1.0; total time=   1.1s\n",
      "[CV] END colsample_bytree=0.8, learning_rate=0.01, max_depth=3, n_estimators=100, subsample=1.0; total time=   1.2s\n",
      "[CV] END colsample_bytree=0.8, learning_rate=0.01, max_depth=3, n_estimators=200, subsample=0.8; total time=   3.2s\n",
      "[CV] END colsample_bytree=0.8, learning_rate=0.01, max_depth=3, n_estimators=200, subsample=0.8; total time=   3.1s\n",
      "[CV] END colsample_bytree=0.8, learning_rate=0.01, max_depth=3, n_estimators=200, subsample=0.8; total time=   2.3s\n",
      "[CV] END colsample_bytree=0.8, learning_rate=0.01, max_depth=3, n_estimators=200, subsample=1.0; total time=   2.2s\n",
      "[CV] END colsample_bytree=0.8, learning_rate=0.01, max_depth=3, n_estimators=200, subsample=1.0; total time=   2.7s\n",
      "[CV] END colsample_bytree=0.8, learning_rate=0.01, max_depth=3, n_estimators=200, subsample=1.0; total time=   2.3s\n",
      "[CV] END colsample_bytree=0.8, learning_rate=0.01, max_depth=3, n_estimators=300, subsample=0.8; total time=   3.5s\n",
      "[CV] END colsample_bytree=0.8, learning_rate=0.01, max_depth=3, n_estimators=300, subsample=0.8; total time=   4.0s\n",
      "[CV] END colsample_bytree=0.8, learning_rate=0.01, max_depth=3, n_estimators=300, subsample=0.8; total time=   3.7s\n",
      "[CV] END colsample_bytree=0.8, learning_rate=0.01, max_depth=3, n_estimators=300, subsample=1.0; total time=   3.5s\n",
      "[CV] END colsample_bytree=0.8, learning_rate=0.01, max_depth=3, n_estimators=300, subsample=1.0; total time=   5.1s\n",
      "[CV] END colsample_bytree=0.8, learning_rate=0.01, max_depth=3, n_estimators=300, subsample=1.0; total time=   3.6s\n",
      "[CV] END colsample_bytree=0.8, learning_rate=0.01, max_depth=5, n_estimators=100, subsample=0.8; total time=   1.5s\n",
      "[CV] END colsample_bytree=0.8, learning_rate=0.01, max_depth=5, n_estimators=100, subsample=0.8; total time=   3.0s\n",
      "[CV] END colsample_bytree=0.8, learning_rate=0.01, max_depth=5, n_estimators=100, subsample=0.8; total time=   3.7s\n",
      "[CV] END colsample_bytree=0.8, learning_rate=0.01, max_depth=5, n_estimators=100, subsample=1.0; total time=   1.5s\n",
      "[CV] END colsample_bytree=0.8, learning_rate=0.01, max_depth=5, n_estimators=100, subsample=1.0; total time=   2.3s\n",
      "[CV] END colsample_bytree=0.8, learning_rate=0.01, max_depth=5, n_estimators=100, subsample=1.0; total time=   2.5s\n",
      "[CV] END colsample_bytree=0.8, learning_rate=0.01, max_depth=5, n_estimators=200, subsample=0.8; total time=   3.2s\n",
      "[CV] END colsample_bytree=0.8, learning_rate=0.01, max_depth=5, n_estimators=200, subsample=0.8; total time=   2.9s\n",
      "[CV] END colsample_bytree=0.8, learning_rate=0.01, max_depth=5, n_estimators=200, subsample=0.8; total time=   3.4s\n",
      "[CV] END colsample_bytree=0.8, learning_rate=0.01, max_depth=5, n_estimators=200, subsample=1.0; total time=   3.1s\n",
      "[CV] END colsample_bytree=0.8, learning_rate=0.01, max_depth=5, n_estimators=200, subsample=1.0; total time=   3.0s\n",
      "[CV] END colsample_bytree=0.8, learning_rate=0.01, max_depth=5, n_estimators=200, subsample=1.0; total time=   3.3s\n",
      "[CV] END colsample_bytree=0.8, learning_rate=0.01, max_depth=5, n_estimators=300, subsample=0.8; total time=   4.7s\n",
      "[CV] END colsample_bytree=0.8, learning_rate=0.01, max_depth=5, n_estimators=300, subsample=0.8; total time=   4.5s\n",
      "[CV] END colsample_bytree=0.8, learning_rate=0.01, max_depth=5, n_estimators=300, subsample=0.8; total time=   5.0s\n",
      "[CV] END colsample_bytree=0.8, learning_rate=0.01, max_depth=5, n_estimators=300, subsample=1.0; total time=   4.7s\n",
      "[CV] END colsample_bytree=0.8, learning_rate=0.01, max_depth=5, n_estimators=300, subsample=1.0; total time=   4.9s\n",
      "[CV] END colsample_bytree=0.8, learning_rate=0.01, max_depth=5, n_estimators=300, subsample=1.0; total time=   4.9s\n",
      "[CV] END colsample_bytree=0.8, learning_rate=0.01, max_depth=7, n_estimators=100, subsample=0.8; total time=   2.2s\n",
      "[CV] END colsample_bytree=0.8, learning_rate=0.01, max_depth=7, n_estimators=100, subsample=0.8; total time=   1.9s\n",
      "[CV] END colsample_bytree=0.8, learning_rate=0.01, max_depth=7, n_estimators=100, subsample=0.8; total time=   1.9s\n",
      "[CV] END colsample_bytree=0.8, learning_rate=0.01, max_depth=7, n_estimators=100, subsample=1.0; total time=   2.0s\n",
      "[CV] END colsample_bytree=0.8, learning_rate=0.01, max_depth=7, n_estimators=100, subsample=1.0; total time=   1.9s\n",
      "[CV] END colsample_bytree=0.8, learning_rate=0.01, max_depth=7, n_estimators=100, subsample=1.0; total time=   2.2s\n",
      "[CV] END colsample_bytree=0.8, learning_rate=0.01, max_depth=7, n_estimators=200, subsample=0.8; total time=   3.7s\n",
      "[CV] END colsample_bytree=0.8, learning_rate=0.01, max_depth=7, n_estimators=200, subsample=0.8; total time=   3.8s\n",
      "[CV] END colsample_bytree=0.8, learning_rate=0.01, max_depth=7, n_estimators=200, subsample=0.8; total time=   4.3s\n",
      "[CV] END colsample_bytree=0.8, learning_rate=0.01, max_depth=7, n_estimators=200, subsample=1.0; total time=   4.8s\n",
      "[CV] END colsample_bytree=0.8, learning_rate=0.01, max_depth=7, n_estimators=200, subsample=1.0; total time=   4.1s\n",
      "[CV] END colsample_bytree=0.8, learning_rate=0.01, max_depth=7, n_estimators=200, subsample=1.0; total time=   3.8s\n",
      "[CV] END colsample_bytree=0.8, learning_rate=0.01, max_depth=7, n_estimators=300, subsample=0.8; total time=   6.2s\n",
      "[CV] END colsample_bytree=0.8, learning_rate=0.01, max_depth=7, n_estimators=300, subsample=0.8; total time=   5.7s\n",
      "[CV] END colsample_bytree=0.8, learning_rate=0.01, max_depth=7, n_estimators=300, subsample=0.8; total time=   6.3s\n",
      "[CV] END colsample_bytree=0.8, learning_rate=0.01, max_depth=7, n_estimators=300, subsample=1.0; total time=   6.0s\n",
      "[CV] END colsample_bytree=0.8, learning_rate=0.01, max_depth=7, n_estimators=300, subsample=1.0; total time=   5.7s\n",
      "[CV] END colsample_bytree=0.8, learning_rate=0.01, max_depth=7, n_estimators=300, subsample=1.0; total time=   6.1s\n",
      "[CV] END colsample_bytree=0.8, learning_rate=0.1, max_depth=3, n_estimators=100, subsample=0.8; total time=   1.3s\n",
      "[CV] END colsample_bytree=0.8, learning_rate=0.1, max_depth=3, n_estimators=100, subsample=0.8; total time=   1.2s\n",
      "[CV] END colsample_bytree=0.8, learning_rate=0.1, max_depth=3, n_estimators=100, subsample=0.8; total time=   1.3s\n",
      "[CV] END colsample_bytree=0.8, learning_rate=0.1, max_depth=3, n_estimators=100, subsample=1.0; total time=   1.1s\n",
      "[CV] END colsample_bytree=0.8, learning_rate=0.1, max_depth=3, n_estimators=100, subsample=1.0; total time=   1.3s\n",
      "[CV] END colsample_bytree=0.8, learning_rate=0.1, max_depth=3, n_estimators=100, subsample=1.0; total time=   1.2s\n",
      "[CV] END colsample_bytree=0.8, learning_rate=0.1, max_depth=3, n_estimators=200, subsample=0.8; total time=   2.8s\n",
      "[CV] END colsample_bytree=0.8, learning_rate=0.1, max_depth=3, n_estimators=200, subsample=0.8; total time=   2.4s\n",
      "[CV] END colsample_bytree=0.8, learning_rate=0.1, max_depth=3, n_estimators=200, subsample=0.8; total time=   2.3s\n",
      "[CV] END colsample_bytree=0.8, learning_rate=0.1, max_depth=3, n_estimators=200, subsample=1.0; total time=   2.4s\n",
      "[CV] END colsample_bytree=0.8, learning_rate=0.1, max_depth=3, n_estimators=200, subsample=1.0; total time=   2.7s\n",
      "[CV] END colsample_bytree=0.8, learning_rate=0.1, max_depth=3, n_estimators=200, subsample=1.0; total time=   2.5s\n",
      "[CV] END colsample_bytree=0.8, learning_rate=0.1, max_depth=3, n_estimators=300, subsample=0.8; total time=   3.5s\n",
      "[CV] END colsample_bytree=0.8, learning_rate=0.1, max_depth=3, n_estimators=300, subsample=0.8; total time=   4.0s\n",
      "[CV] END colsample_bytree=0.8, learning_rate=0.1, max_depth=3, n_estimators=300, subsample=0.8; total time=   3.7s\n",
      "[CV] END colsample_bytree=0.8, learning_rate=0.1, max_depth=3, n_estimators=300, subsample=1.0; total time=   3.7s\n",
      "[CV] END colsample_bytree=0.8, learning_rate=0.1, max_depth=3, n_estimators=300, subsample=1.0; total time=   3.9s\n"
     ]
    },
    {
     "name": "stdout",
     "output_type": "stream",
     "text": [
      "[CV] END colsample_bytree=0.8, learning_rate=0.1, max_depth=3, n_estimators=300, subsample=1.0; total time=   3.6s\n",
      "[CV] END colsample_bytree=0.8, learning_rate=0.1, max_depth=5, n_estimators=100, subsample=0.8; total time=   1.4s\n",
      "[CV] END colsample_bytree=0.8, learning_rate=0.1, max_depth=5, n_estimators=100, subsample=0.8; total time=   1.6s\n",
      "[CV] END colsample_bytree=0.8, learning_rate=0.1, max_depth=5, n_estimators=100, subsample=0.8; total time=   1.9s\n",
      "[CV] END colsample_bytree=0.8, learning_rate=0.1, max_depth=5, n_estimators=100, subsample=1.0; total time=   1.5s\n",
      "[CV] END colsample_bytree=0.8, learning_rate=0.1, max_depth=5, n_estimators=100, subsample=1.0; total time=   1.5s\n",
      "[CV] END colsample_bytree=0.8, learning_rate=0.1, max_depth=5, n_estimators=100, subsample=1.0; total time=   1.5s\n",
      "[CV] END colsample_bytree=0.8, learning_rate=0.1, max_depth=5, n_estimators=200, subsample=0.8; total time=   3.0s\n",
      "[CV] END colsample_bytree=0.8, learning_rate=0.1, max_depth=5, n_estimators=200, subsample=0.8; total time=   3.3s\n",
      "[CV] END colsample_bytree=0.8, learning_rate=0.1, max_depth=5, n_estimators=200, subsample=0.8; total time=   3.0s\n",
      "[CV] END colsample_bytree=0.8, learning_rate=0.1, max_depth=5, n_estimators=200, subsample=1.0; total time=   3.0s\n",
      "[CV] END colsample_bytree=0.8, learning_rate=0.1, max_depth=5, n_estimators=200, subsample=1.0; total time=   3.5s\n",
      "[CV] END colsample_bytree=0.8, learning_rate=0.1, max_depth=5, n_estimators=200, subsample=1.0; total time=   3.1s\n",
      "[CV] END colsample_bytree=0.8, learning_rate=0.1, max_depth=5, n_estimators=300, subsample=0.8; total time=   4.5s\n",
      "[CV] END colsample_bytree=0.8, learning_rate=0.1, max_depth=5, n_estimators=300, subsample=0.8; total time=   5.0s\n",
      "[CV] END colsample_bytree=0.8, learning_rate=0.1, max_depth=5, n_estimators=300, subsample=0.8; total time=   4.6s\n",
      "[CV] END colsample_bytree=0.8, learning_rate=0.1, max_depth=5, n_estimators=300, subsample=1.0; total time=   4.9s\n",
      "[CV] END colsample_bytree=0.8, learning_rate=0.1, max_depth=5, n_estimators=300, subsample=1.0; total time=   4.4s\n",
      "[CV] END colsample_bytree=0.8, learning_rate=0.1, max_depth=5, n_estimators=300, subsample=1.0; total time=   5.0s\n",
      "[CV] END colsample_bytree=0.8, learning_rate=0.1, max_depth=7, n_estimators=100, subsample=0.8; total time=   1.9s\n",
      "[CV] END colsample_bytree=0.8, learning_rate=0.1, max_depth=7, n_estimators=100, subsample=0.8; total time=   2.0s\n",
      "[CV] END colsample_bytree=0.8, learning_rate=0.1, max_depth=7, n_estimators=100, subsample=0.8; total time=   1.8s\n",
      "[CV] END colsample_bytree=0.8, learning_rate=0.1, max_depth=7, n_estimators=100, subsample=1.0; total time=   2.3s\n",
      "[CV] END colsample_bytree=0.8, learning_rate=0.1, max_depth=7, n_estimators=100, subsample=1.0; total time=   1.9s\n",
      "[CV] END colsample_bytree=0.8, learning_rate=0.1, max_depth=7, n_estimators=100, subsample=1.0; total time=   1.8s\n",
      "[CV] END colsample_bytree=0.8, learning_rate=0.1, max_depth=7, n_estimators=200, subsample=0.8; total time=   3.7s\n",
      "[CV] END colsample_bytree=0.8, learning_rate=0.1, max_depth=7, n_estimators=200, subsample=0.8; total time=   4.0s\n",
      "[CV] END colsample_bytree=0.8, learning_rate=0.1, max_depth=7, n_estimators=200, subsample=0.8; total time=   3.7s\n",
      "[CV] END colsample_bytree=0.8, learning_rate=0.1, max_depth=7, n_estimators=200, subsample=1.0; total time=   3.8s\n",
      "[CV] END colsample_bytree=0.8, learning_rate=0.1, max_depth=7, n_estimators=200, subsample=1.0; total time=   3.8s\n",
      "[CV] END colsample_bytree=0.8, learning_rate=0.1, max_depth=7, n_estimators=200, subsample=1.0; total time=   3.7s\n",
      "[CV] END colsample_bytree=0.8, learning_rate=0.1, max_depth=7, n_estimators=300, subsample=0.8; total time=  10.7s\n",
      "[CV] END colsample_bytree=0.8, learning_rate=0.1, max_depth=7, n_estimators=300, subsample=0.8; total time=   6.1s\n",
      "[CV] END colsample_bytree=0.8, learning_rate=0.1, max_depth=7, n_estimators=300, subsample=0.8; total time=   6.4s\n",
      "[CV] END colsample_bytree=0.8, learning_rate=0.1, max_depth=7, n_estimators=300, subsample=1.0; total time=   5.8s\n",
      "[CV] END colsample_bytree=0.8, learning_rate=0.1, max_depth=7, n_estimators=300, subsample=1.0; total time=   5.8s\n",
      "[CV] END colsample_bytree=0.8, learning_rate=0.1, max_depth=7, n_estimators=300, subsample=1.0; total time=   5.6s\n",
      "[CV] END colsample_bytree=0.8, learning_rate=0.2, max_depth=3, n_estimators=100, subsample=0.8; total time=   1.2s\n",
      "[CV] END colsample_bytree=0.8, learning_rate=0.2, max_depth=3, n_estimators=100, subsample=0.8; total time=   1.5s\n",
      "[CV] END colsample_bytree=0.8, learning_rate=0.2, max_depth=3, n_estimators=100, subsample=0.8; total time=   1.2s\n",
      "[CV] END colsample_bytree=0.8, learning_rate=0.2, max_depth=3, n_estimators=100, subsample=1.0; total time=   1.2s\n",
      "[CV] END colsample_bytree=0.8, learning_rate=0.2, max_depth=3, n_estimators=100, subsample=1.0; total time=   1.3s\n",
      "[CV] END colsample_bytree=0.8, learning_rate=0.2, max_depth=3, n_estimators=100, subsample=1.0; total time=   1.2s\n",
      "[CV] END colsample_bytree=0.8, learning_rate=0.2, max_depth=3, n_estimators=200, subsample=0.8; total time=   2.4s\n",
      "[CV] END colsample_bytree=0.8, learning_rate=0.2, max_depth=3, n_estimators=200, subsample=0.8; total time=   2.8s\n",
      "[CV] END colsample_bytree=0.8, learning_rate=0.2, max_depth=3, n_estimators=200, subsample=0.8; total time=   2.3s\n",
      "[CV] END colsample_bytree=0.8, learning_rate=0.2, max_depth=3, n_estimators=200, subsample=1.0; total time=   2.4s\n",
      "[CV] END colsample_bytree=0.8, learning_rate=0.2, max_depth=3, n_estimators=200, subsample=1.0; total time=   2.3s\n",
      "[CV] END colsample_bytree=0.8, learning_rate=0.2, max_depth=3, n_estimators=200, subsample=1.0; total time=   2.6s\n",
      "[CV] END colsample_bytree=0.8, learning_rate=0.2, max_depth=3, n_estimators=300, subsample=0.8; total time=   3.8s\n",
      "[CV] END colsample_bytree=0.8, learning_rate=0.2, max_depth=3, n_estimators=300, subsample=0.8; total time=   3.5s\n",
      "[CV] END colsample_bytree=0.8, learning_rate=0.2, max_depth=3, n_estimators=300, subsample=0.8; total time=   4.1s\n",
      "[CV] END colsample_bytree=0.8, learning_rate=0.2, max_depth=3, n_estimators=300, subsample=1.0; total time=   3.4s\n",
      "[CV] END colsample_bytree=0.8, learning_rate=0.2, max_depth=3, n_estimators=300, subsample=1.0; total time=   3.4s\n",
      "[CV] END colsample_bytree=0.8, learning_rate=0.2, max_depth=3, n_estimators=300, subsample=1.0; total time=   4.0s\n",
      "[CV] END colsample_bytree=0.8, learning_rate=0.2, max_depth=5, n_estimators=100, subsample=0.8; total time=   1.6s\n",
      "[CV] END colsample_bytree=0.8, learning_rate=0.2, max_depth=5, n_estimators=100, subsample=0.8; total time=   1.4s\n",
      "[CV] END colsample_bytree=0.8, learning_rate=0.2, max_depth=5, n_estimators=100, subsample=0.8; total time=   1.5s\n",
      "[CV] END colsample_bytree=0.8, learning_rate=0.2, max_depth=5, n_estimators=100, subsample=1.0; total time=   1.6s\n",
      "[CV] END colsample_bytree=0.8, learning_rate=0.2, max_depth=5, n_estimators=100, subsample=1.0; total time=   1.8s\n",
      "[CV] END colsample_bytree=0.8, learning_rate=0.2, max_depth=5, n_estimators=100, subsample=1.0; total time=   1.5s\n",
      "[CV] END colsample_bytree=0.8, learning_rate=0.2, max_depth=5, n_estimators=200, subsample=0.8; total time=   3.0s\n",
      "[CV] END colsample_bytree=0.8, learning_rate=0.2, max_depth=5, n_estimators=200, subsample=0.8; total time=   3.1s\n",
      "[CV] END colsample_bytree=0.8, learning_rate=0.2, max_depth=5, n_estimators=200, subsample=0.8; total time=   3.4s\n",
      "[CV] END colsample_bytree=0.8, learning_rate=0.2, max_depth=5, n_estimators=200, subsample=1.0; total time=   3.0s\n",
      "[CV] END colsample_bytree=0.8, learning_rate=0.2, max_depth=5, n_estimators=200, subsample=1.0; total time=   2.9s\n",
      "[CV] END colsample_bytree=0.8, learning_rate=0.2, max_depth=5, n_estimators=200, subsample=1.0; total time=   3.4s\n",
      "[CV] END colsample_bytree=0.8, learning_rate=0.2, max_depth=5, n_estimators=300, subsample=0.8; total time=   4.5s\n",
      "[CV] END colsample_bytree=0.8, learning_rate=0.2, max_depth=5, n_estimators=300, subsample=0.8; total time=   4.7s\n",
      "[CV] END colsample_bytree=0.8, learning_rate=0.2, max_depth=5, n_estimators=300, subsample=0.8; total time=   4.8s\n",
      "[CV] END colsample_bytree=0.8, learning_rate=0.2, max_depth=5, n_estimators=300, subsample=1.0; total time=   4.4s\n",
      "[CV] END colsample_bytree=0.8, learning_rate=0.2, max_depth=5, n_estimators=300, subsample=1.0; total time=   5.0s\n"
     ]
    },
    {
     "name": "stdout",
     "output_type": "stream",
     "text": [
      "[CV] END colsample_bytree=0.8, learning_rate=0.2, max_depth=5, n_estimators=300, subsample=1.0; total time=   4.5s\n",
      "[CV] END colsample_bytree=0.8, learning_rate=0.2, max_depth=7, n_estimators=100, subsample=0.8; total time=   2.2s\n",
      "[CV] END colsample_bytree=0.8, learning_rate=0.2, max_depth=7, n_estimators=100, subsample=0.8; total time=   1.9s\n",
      "[CV] END colsample_bytree=0.8, learning_rate=0.2, max_depth=7, n_estimators=100, subsample=0.8; total time=   1.8s\n",
      "[CV] END colsample_bytree=0.8, learning_rate=0.2, max_depth=7, n_estimators=100, subsample=1.0; total time=   1.8s\n",
      "[CV] END colsample_bytree=0.8, learning_rate=0.2, max_depth=7, n_estimators=100, subsample=1.0; total time=   1.8s\n",
      "[CV] END colsample_bytree=0.8, learning_rate=0.2, max_depth=7, n_estimators=100, subsample=1.0; total time=   1.9s\n",
      "[CV] END colsample_bytree=0.8, learning_rate=0.2, max_depth=7, n_estimators=200, subsample=0.8; total time=   3.9s\n",
      "[CV] END colsample_bytree=0.8, learning_rate=0.2, max_depth=7, n_estimators=200, subsample=0.8; total time=   3.7s\n",
      "[CV] END colsample_bytree=0.8, learning_rate=0.2, max_depth=7, n_estimators=200, subsample=0.8; total time=   4.1s\n",
      "[CV] END colsample_bytree=0.8, learning_rate=0.2, max_depth=7, n_estimators=200, subsample=1.0; total time=   3.7s\n",
      "[CV] END colsample_bytree=0.8, learning_rate=0.2, max_depth=7, n_estimators=200, subsample=1.0; total time=   3.7s\n",
      "[CV] END colsample_bytree=0.8, learning_rate=0.2, max_depth=7, n_estimators=200, subsample=1.0; total time=   4.1s\n",
      "[CV] END colsample_bytree=0.8, learning_rate=0.2, max_depth=7, n_estimators=300, subsample=0.8; total time=   6.7s\n",
      "[CV] END colsample_bytree=0.8, learning_rate=0.2, max_depth=7, n_estimators=300, subsample=0.8; total time=   8.7s\n",
      "[CV] END colsample_bytree=0.8, learning_rate=0.2, max_depth=7, n_estimators=300, subsample=0.8; total time=   6.8s\n",
      "[CV] END colsample_bytree=0.8, learning_rate=0.2, max_depth=7, n_estimators=300, subsample=1.0; total time=  12.4s\n",
      "[CV] END colsample_bytree=0.8, learning_rate=0.2, max_depth=7, n_estimators=300, subsample=1.0; total time=   5.8s\n",
      "[CV] END colsample_bytree=0.8, learning_rate=0.2, max_depth=7, n_estimators=300, subsample=1.0; total time=   5.5s\n",
      "[CV] END colsample_bytree=1.0, learning_rate=0.01, max_depth=3, n_estimators=100, subsample=0.8; total time=   1.6s\n",
      "[CV] END colsample_bytree=1.0, learning_rate=0.01, max_depth=3, n_estimators=100, subsample=0.8; total time=   1.3s\n",
      "[CV] END colsample_bytree=1.0, learning_rate=0.01, max_depth=3, n_estimators=100, subsample=0.8; total time=   1.4s\n",
      "[CV] END colsample_bytree=1.0, learning_rate=0.01, max_depth=3, n_estimators=100, subsample=1.0; total time=   1.3s\n",
      "[CV] END colsample_bytree=1.0, learning_rate=0.01, max_depth=3, n_estimators=100, subsample=1.0; total time=   1.2s\n",
      "[CV] END colsample_bytree=1.0, learning_rate=0.01, max_depth=3, n_estimators=100, subsample=1.0; total time=   1.2s\n",
      "[CV] END colsample_bytree=1.0, learning_rate=0.01, max_depth=3, n_estimators=200, subsample=0.8; total time=   2.9s\n",
      "[CV] END colsample_bytree=1.0, learning_rate=0.01, max_depth=3, n_estimators=200, subsample=0.8; total time=   2.8s\n",
      "[CV] END colsample_bytree=1.0, learning_rate=0.01, max_depth=3, n_estimators=200, subsample=0.8; total time=   2.6s\n",
      "[CV] END colsample_bytree=1.0, learning_rate=0.01, max_depth=3, n_estimators=200, subsample=1.0; total time=   2.5s\n",
      "[CV] END colsample_bytree=1.0, learning_rate=0.01, max_depth=3, n_estimators=200, subsample=1.0; total time=   2.9s\n",
      "[CV] END colsample_bytree=1.0, learning_rate=0.01, max_depth=3, n_estimators=200, subsample=1.0; total time=   2.6s\n",
      "[CV] END colsample_bytree=1.0, learning_rate=0.01, max_depth=3, n_estimators=300, subsample=0.8; total time=   3.9s\n",
      "[CV] END colsample_bytree=1.0, learning_rate=0.01, max_depth=3, n_estimators=300, subsample=0.8; total time=   4.1s\n",
      "[CV] END colsample_bytree=1.0, learning_rate=0.01, max_depth=3, n_estimators=300, subsample=0.8; total time=   4.0s\n",
      "[CV] END colsample_bytree=1.0, learning_rate=0.01, max_depth=3, n_estimators=300, subsample=1.0; total time=   3.7s\n",
      "[CV] END colsample_bytree=1.0, learning_rate=0.01, max_depth=3, n_estimators=300, subsample=1.0; total time=   4.1s\n",
      "[CV] END colsample_bytree=1.0, learning_rate=0.01, max_depth=3, n_estimators=300, subsample=1.0; total time=   3.7s\n",
      "[CV] END colsample_bytree=1.0, learning_rate=0.01, max_depth=5, n_estimators=100, subsample=0.8; total time=   1.8s\n",
      "[CV] END colsample_bytree=1.0, learning_rate=0.01, max_depth=5, n_estimators=100, subsample=0.8; total time=   2.0s\n",
      "[CV] END colsample_bytree=1.0, learning_rate=0.01, max_depth=5, n_estimators=100, subsample=0.8; total time=   1.7s\n",
      "[CV] END colsample_bytree=1.0, learning_rate=0.01, max_depth=5, n_estimators=100, subsample=1.0; total time=   1.8s\n",
      "[CV] END colsample_bytree=1.0, learning_rate=0.01, max_depth=5, n_estimators=100, subsample=1.0; total time=   1.7s\n",
      "[CV] END colsample_bytree=1.0, learning_rate=0.01, max_depth=5, n_estimators=100, subsample=1.0; total time=   1.7s\n",
      "[CV] END colsample_bytree=1.0, learning_rate=0.01, max_depth=5, n_estimators=200, subsample=0.8; total time=   3.7s\n",
      "[CV] END colsample_bytree=1.0, learning_rate=0.01, max_depth=5, n_estimators=200, subsample=0.8; total time=   3.4s\n",
      "[CV] END colsample_bytree=1.0, learning_rate=0.01, max_depth=5, n_estimators=200, subsample=0.8; total time=   3.5s\n",
      "[CV] END colsample_bytree=1.0, learning_rate=0.01, max_depth=5, n_estimators=200, subsample=1.0; total time=   3.7s\n",
      "[CV] END colsample_bytree=1.0, learning_rate=0.01, max_depth=5, n_estimators=200, subsample=1.0; total time=   3.4s\n",
      "[CV] END colsample_bytree=1.0, learning_rate=0.01, max_depth=5, n_estimators=200, subsample=1.0; total time=   3.5s\n",
      "[CV] END colsample_bytree=1.0, learning_rate=0.01, max_depth=5, n_estimators=300, subsample=0.8; total time=   5.4s\n",
      "[CV] END colsample_bytree=1.0, learning_rate=0.01, max_depth=5, n_estimators=300, subsample=0.8; total time=   5.0s\n",
      "[CV] END colsample_bytree=1.0, learning_rate=0.01, max_depth=5, n_estimators=300, subsample=0.8; total time=   5.5s\n",
      "[CV] END colsample_bytree=1.0, learning_rate=0.01, max_depth=5, n_estimators=300, subsample=1.0; total time=   5.7s\n",
      "[CV] END colsample_bytree=1.0, learning_rate=0.01, max_depth=5, n_estimators=300, subsample=1.0; total time=   5.0s\n",
      "[CV] END colsample_bytree=1.0, learning_rate=0.01, max_depth=5, n_estimators=300, subsample=1.0; total time=   5.4s\n",
      "[CV] END colsample_bytree=1.0, learning_rate=0.01, max_depth=7, n_estimators=100, subsample=0.8; total time=   2.2s\n",
      "[CV] END colsample_bytree=1.0, learning_rate=0.01, max_depth=7, n_estimators=100, subsample=0.8; total time=   2.1s\n",
      "[CV] END colsample_bytree=1.0, learning_rate=0.01, max_depth=7, n_estimators=100, subsample=0.8; total time=   2.1s\n",
      "[CV] END colsample_bytree=1.0, learning_rate=0.01, max_depth=7, n_estimators=100, subsample=1.0; total time=   3.0s\n",
      "[CV] END colsample_bytree=1.0, learning_rate=0.01, max_depth=7, n_estimators=100, subsample=1.0; total time=   2.4s\n",
      "[CV] END colsample_bytree=1.0, learning_rate=0.01, max_depth=7, n_estimators=100, subsample=1.0; total time=   2.2s\n",
      "[CV] END colsample_bytree=1.0, learning_rate=0.01, max_depth=7, n_estimators=200, subsample=0.8; total time=   4.3s\n",
      "[CV] END colsample_bytree=1.0, learning_rate=0.01, max_depth=7, n_estimators=200, subsample=0.8; total time=   4.4s\n",
      "[CV] END colsample_bytree=1.0, learning_rate=0.01, max_depth=7, n_estimators=200, subsample=0.8; total time=   4.2s\n",
      "[CV] END colsample_bytree=1.0, learning_rate=0.01, max_depth=7, n_estimators=200, subsample=1.0; total time=   4.7s\n",
      "[CV] END colsample_bytree=1.0, learning_rate=0.01, max_depth=7, n_estimators=200, subsample=1.0; total time=   4.4s\n",
      "[CV] END colsample_bytree=1.0, learning_rate=0.01, max_depth=7, n_estimators=200, subsample=1.0; total time=   4.6s\n",
      "[CV] END colsample_bytree=1.0, learning_rate=0.01, max_depth=7, n_estimators=300, subsample=0.8; total time=   6.5s\n",
      "[CV] END colsample_bytree=1.0, learning_rate=0.01, max_depth=7, n_estimators=300, subsample=0.8; total time=   7.6s\n",
      "[CV] END colsample_bytree=1.0, learning_rate=0.01, max_depth=7, n_estimators=300, subsample=0.8; total time=   6.8s\n",
      "[CV] END colsample_bytree=1.0, learning_rate=0.01, max_depth=7, n_estimators=300, subsample=1.0; total time=   6.7s\n"
     ]
    },
    {
     "name": "stdout",
     "output_type": "stream",
     "text": [
      "[CV] END colsample_bytree=1.0, learning_rate=0.01, max_depth=7, n_estimators=300, subsample=1.0; total time=   7.7s\n",
      "[CV] END colsample_bytree=1.0, learning_rate=0.01, max_depth=7, n_estimators=300, subsample=1.0; total time=   6.6s\n",
      "[CV] END colsample_bytree=1.0, learning_rate=0.1, max_depth=3, n_estimators=100, subsample=0.8; total time=   1.4s\n",
      "[CV] END colsample_bytree=1.0, learning_rate=0.1, max_depth=3, n_estimators=100, subsample=0.8; total time=   1.3s\n",
      "[CV] END colsample_bytree=1.0, learning_rate=0.1, max_depth=3, n_estimators=100, subsample=0.8; total time=   1.2s\n",
      "[CV] END colsample_bytree=1.0, learning_rate=0.1, max_depth=3, n_estimators=100, subsample=1.0; total time=   1.2s\n",
      "[CV] END colsample_bytree=1.0, learning_rate=0.1, max_depth=3, n_estimators=100, subsample=1.0; total time=   1.3s\n",
      "[CV] END colsample_bytree=1.0, learning_rate=0.1, max_depth=3, n_estimators=100, subsample=1.0; total time=   1.6s\n",
      "[CV] END colsample_bytree=1.0, learning_rate=0.1, max_depth=3, n_estimators=200, subsample=0.8; total time=   2.6s\n",
      "[CV] END colsample_bytree=1.0, learning_rate=0.1, max_depth=3, n_estimators=200, subsample=0.8; total time=   2.5s\n",
      "[CV] END colsample_bytree=1.0, learning_rate=0.1, max_depth=3, n_estimators=200, subsample=0.8; total time=   2.5s\n",
      "[CV] END colsample_bytree=1.0, learning_rate=0.1, max_depth=3, n_estimators=200, subsample=1.0; total time=   2.8s\n",
      "[CV] END colsample_bytree=1.0, learning_rate=0.1, max_depth=3, n_estimators=200, subsample=1.0; total time=   2.6s\n",
      "[CV] END colsample_bytree=1.0, learning_rate=0.1, max_depth=3, n_estimators=200, subsample=1.0; total time=   2.4s\n",
      "[CV] END colsample_bytree=1.0, learning_rate=0.1, max_depth=3, n_estimators=300, subsample=0.8; total time=   4.5s\n",
      "[CV] END colsample_bytree=1.0, learning_rate=0.1, max_depth=3, n_estimators=300, subsample=0.8; total time=   3.9s\n",
      "[CV] END colsample_bytree=1.0, learning_rate=0.1, max_depth=3, n_estimators=300, subsample=0.8; total time=   4.0s\n",
      "[CV] END colsample_bytree=1.0, learning_rate=0.1, max_depth=3, n_estimators=300, subsample=1.0; total time=   4.2s\n",
      "[CV] END colsample_bytree=1.0, learning_rate=0.1, max_depth=3, n_estimators=300, subsample=1.0; total time=   3.9s\n",
      "[CV] END colsample_bytree=1.0, learning_rate=0.1, max_depth=3, n_estimators=300, subsample=1.0; total time=   4.1s\n",
      "[CV] END colsample_bytree=1.0, learning_rate=0.1, max_depth=5, n_estimators=100, subsample=0.8; total time=   1.7s\n",
      "[CV] END colsample_bytree=1.0, learning_rate=0.1, max_depth=5, n_estimators=100, subsample=0.8; total time=   1.8s\n",
      "[CV] END colsample_bytree=1.0, learning_rate=0.1, max_depth=5, n_estimators=100, subsample=0.8; total time=   1.7s\n",
      "[CV] END colsample_bytree=1.0, learning_rate=0.1, max_depth=5, n_estimators=100, subsample=1.0; total time=   1.7s\n",
      "[CV] END colsample_bytree=1.0, learning_rate=0.1, max_depth=5, n_estimators=100, subsample=1.0; total time=   1.8s\n",
      "[CV] END colsample_bytree=1.0, learning_rate=0.1, max_depth=5, n_estimators=100, subsample=1.0; total time=   2.0s\n",
      "[CV] END colsample_bytree=1.0, learning_rate=0.1, max_depth=5, n_estimators=200, subsample=0.8; total time=   3.8s\n",
      "[CV] END colsample_bytree=1.0, learning_rate=0.1, max_depth=5, n_estimators=200, subsample=0.8; total time=   3.3s\n",
      "[CV] END colsample_bytree=1.0, learning_rate=0.1, max_depth=5, n_estimators=200, subsample=0.8; total time=   3.8s\n",
      "[CV] END colsample_bytree=1.0, learning_rate=0.1, max_depth=5, n_estimators=200, subsample=1.0; total time=   3.2s\n",
      "[CV] END colsample_bytree=1.0, learning_rate=0.1, max_depth=5, n_estimators=200, subsample=1.0; total time=   3.3s\n",
      "[CV] END colsample_bytree=1.0, learning_rate=0.1, max_depth=5, n_estimators=200, subsample=1.0; total time=   3.6s\n",
      "[CV] END colsample_bytree=1.0, learning_rate=0.1, max_depth=5, n_estimators=300, subsample=0.8; total time=   5.2s\n",
      "[CV] END colsample_bytree=1.0, learning_rate=0.1, max_depth=5, n_estimators=300, subsample=0.8; total time=   5.4s\n",
      "[CV] END colsample_bytree=1.0, learning_rate=0.1, max_depth=5, n_estimators=300, subsample=0.8; total time=   4.9s\n",
      "[CV] END colsample_bytree=1.0, learning_rate=0.1, max_depth=5, n_estimators=300, subsample=1.0; total time=   5.2s\n",
      "[CV] END colsample_bytree=1.0, learning_rate=0.1, max_depth=5, n_estimators=300, subsample=1.0; total time=   4.8s\n",
      "[CV] END colsample_bytree=1.0, learning_rate=0.1, max_depth=5, n_estimators=300, subsample=1.0; total time=   6.1s\n",
      "[CV] END colsample_bytree=1.0, learning_rate=0.1, max_depth=7, n_estimators=100, subsample=0.8; total time=   2.2s\n",
      "[CV] END colsample_bytree=1.0, learning_rate=0.1, max_depth=7, n_estimators=100, subsample=0.8; total time=   2.1s\n",
      "[CV] END colsample_bytree=1.0, learning_rate=0.1, max_depth=7, n_estimators=100, subsample=0.8; total time=   2.5s\n",
      "[CV] END colsample_bytree=1.0, learning_rate=0.1, max_depth=7, n_estimators=100, subsample=1.0; total time=   2.1s\n",
      "[CV] END colsample_bytree=1.0, learning_rate=0.1, max_depth=7, n_estimators=100, subsample=1.0; total time=   2.2s\n",
      "[CV] END colsample_bytree=1.0, learning_rate=0.1, max_depth=7, n_estimators=100, subsample=1.0; total time=   2.3s\n",
      "[CV] END colsample_bytree=1.0, learning_rate=0.1, max_depth=7, n_estimators=200, subsample=0.8; total time=   4.6s\n",
      "[CV] END colsample_bytree=1.0, learning_rate=0.1, max_depth=7, n_estimators=200, subsample=0.8; total time=   4.1s\n",
      "[CV] END colsample_bytree=1.0, learning_rate=0.1, max_depth=7, n_estimators=200, subsample=0.8; total time=   4.4s\n",
      "[CV] END colsample_bytree=1.0, learning_rate=0.1, max_depth=7, n_estimators=200, subsample=1.0; total time=   4.0s\n",
      "[CV] END colsample_bytree=1.0, learning_rate=0.1, max_depth=7, n_estimators=200, subsample=1.0; total time=   4.3s\n",
      "[CV] END colsample_bytree=1.0, learning_rate=0.1, max_depth=7, n_estimators=200, subsample=1.0; total time=   4.5s\n",
      "[CV] END colsample_bytree=1.0, learning_rate=0.1, max_depth=7, n_estimators=300, subsample=0.8; total time=   6.6s\n",
      "[CV] END colsample_bytree=1.0, learning_rate=0.1, max_depth=7, n_estimators=300, subsample=0.8; total time=   6.2s\n",
      "[CV] END colsample_bytree=1.0, learning_rate=0.1, max_depth=7, n_estimators=300, subsample=0.8; total time=   6.5s\n",
      "[CV] END colsample_bytree=1.0, learning_rate=0.1, max_depth=7, n_estimators=300, subsample=1.0; total time=   6.3s\n",
      "[CV] END colsample_bytree=1.0, learning_rate=0.1, max_depth=7, n_estimators=300, subsample=1.0; total time=   6.6s\n",
      "[CV] END colsample_bytree=1.0, learning_rate=0.1, max_depth=7, n_estimators=300, subsample=1.0; total time=   6.4s\n",
      "[CV] END colsample_bytree=1.0, learning_rate=0.2, max_depth=3, n_estimators=100, subsample=0.8; total time=   1.4s\n",
      "[CV] END colsample_bytree=1.0, learning_rate=0.2, max_depth=3, n_estimators=100, subsample=0.8; total time=   1.3s\n",
      "[CV] END colsample_bytree=1.0, learning_rate=0.2, max_depth=3, n_estimators=100, subsample=0.8; total time=   1.3s\n",
      "[CV] END colsample_bytree=1.0, learning_rate=0.2, max_depth=3, n_estimators=100, subsample=1.0; total time=   1.3s\n",
      "[CV] END colsample_bytree=1.0, learning_rate=0.2, max_depth=3, n_estimators=100, subsample=1.0; total time=   1.2s\n",
      "[CV] END colsample_bytree=1.0, learning_rate=0.2, max_depth=3, n_estimators=100, subsample=1.0; total time=   1.6s\n",
      "[CV] END colsample_bytree=1.0, learning_rate=0.2, max_depth=3, n_estimators=200, subsample=0.8; total time=   2.6s\n",
      "[CV] END colsample_bytree=1.0, learning_rate=0.2, max_depth=3, n_estimators=200, subsample=0.8; total time=   2.6s\n",
      "[CV] END colsample_bytree=1.0, learning_rate=0.2, max_depth=3, n_estimators=200, subsample=0.8; total time=   2.6s\n",
      "[CV] END colsample_bytree=1.0, learning_rate=0.2, max_depth=3, n_estimators=200, subsample=1.0; total time=   2.8s\n",
      "[CV] END colsample_bytree=1.0, learning_rate=0.2, max_depth=3, n_estimators=200, subsample=1.0; total time=   2.6s\n",
      "[CV] END colsample_bytree=1.0, learning_rate=0.2, max_depth=3, n_estimators=200, subsample=1.0; total time=   2.5s\n",
      "[CV] END colsample_bytree=1.0, learning_rate=0.2, max_depth=3, n_estimators=300, subsample=0.8; total time=   4.0s\n",
      "[CV] END colsample_bytree=1.0, learning_rate=0.2, max_depth=3, n_estimators=300, subsample=0.8; total time=   3.9s\n",
      "[CV] END colsample_bytree=1.0, learning_rate=0.2, max_depth=3, n_estimators=300, subsample=0.8; total time=   3.9s\n",
      "[CV] END colsample_bytree=1.0, learning_rate=0.2, max_depth=3, n_estimators=300, subsample=1.0; total time=   4.2s\n"
     ]
    },
    {
     "name": "stdout",
     "output_type": "stream",
     "text": [
      "[CV] END colsample_bytree=1.0, learning_rate=0.2, max_depth=3, n_estimators=300, subsample=1.0; total time=   3.8s\n",
      "[CV] END colsample_bytree=1.0, learning_rate=0.2, max_depth=3, n_estimators=300, subsample=1.0; total time=   4.1s\n",
      "[CV] END colsample_bytree=1.0, learning_rate=0.2, max_depth=5, n_estimators=100, subsample=0.8; total time=   1.7s\n",
      "[CV] END colsample_bytree=1.0, learning_rate=0.2, max_depth=5, n_estimators=100, subsample=0.8; total time=   1.6s\n",
      "[CV] END colsample_bytree=1.0, learning_rate=0.2, max_depth=5, n_estimators=100, subsample=0.8; total time=   1.8s\n",
      "[CV] END colsample_bytree=1.0, learning_rate=0.2, max_depth=5, n_estimators=100, subsample=1.0; total time=   1.5s\n",
      "[CV] END colsample_bytree=1.0, learning_rate=0.2, max_depth=5, n_estimators=100, subsample=1.0; total time=   1.7s\n",
      "[CV] END colsample_bytree=1.0, learning_rate=0.2, max_depth=5, n_estimators=100, subsample=1.0; total time=   2.0s\n",
      "[CV] END colsample_bytree=1.0, learning_rate=0.2, max_depth=5, n_estimators=200, subsample=0.8; total time=   3.4s\n",
      "[CV] END colsample_bytree=1.0, learning_rate=0.2, max_depth=5, n_estimators=200, subsample=0.8; total time=   3.3s\n",
      "[CV] END colsample_bytree=1.0, learning_rate=0.2, max_depth=5, n_estimators=200, subsample=0.8; total time=   3.7s\n",
      "[CV] END colsample_bytree=1.0, learning_rate=0.2, max_depth=5, n_estimators=200, subsample=1.0; total time=   3.3s\n",
      "[CV] END colsample_bytree=1.0, learning_rate=0.2, max_depth=5, n_estimators=200, subsample=1.0; total time=   3.3s\n",
      "[CV] END colsample_bytree=1.0, learning_rate=0.2, max_depth=5, n_estimators=200, subsample=1.0; total time=   4.9s\n",
      "[CV] END colsample_bytree=1.0, learning_rate=0.2, max_depth=5, n_estimators=300, subsample=0.8; total time=   4.9s\n",
      "[CV] END colsample_bytree=1.0, learning_rate=0.2, max_depth=5, n_estimators=300, subsample=0.8; total time=   5.6s\n",
      "[CV] END colsample_bytree=1.0, learning_rate=0.2, max_depth=5, n_estimators=300, subsample=0.8; total time=   5.0s\n",
      "[CV] END colsample_bytree=1.0, learning_rate=0.2, max_depth=5, n_estimators=300, subsample=1.0; total time=   5.3s\n",
      "[CV] END colsample_bytree=1.0, learning_rate=0.2, max_depth=5, n_estimators=300, subsample=1.0; total time=   6.2s\n",
      "[CV] END colsample_bytree=1.0, learning_rate=0.2, max_depth=5, n_estimators=300, subsample=1.0; total time=   5.5s\n",
      "[CV] END colsample_bytree=1.0, learning_rate=0.2, max_depth=7, n_estimators=100, subsample=0.8; total time=   2.1s\n",
      "[CV] END colsample_bytree=1.0, learning_rate=0.2, max_depth=7, n_estimators=100, subsample=0.8; total time=   2.0s\n",
      "[CV] END colsample_bytree=1.0, learning_rate=0.2, max_depth=7, n_estimators=100, subsample=0.8; total time=   2.4s\n",
      "[CV] END colsample_bytree=1.0, learning_rate=0.2, max_depth=7, n_estimators=100, subsample=1.0; total time=   2.0s\n",
      "[CV] END colsample_bytree=1.0, learning_rate=0.2, max_depth=7, n_estimators=100, subsample=1.0; total time=   2.1s\n",
      "[CV] END colsample_bytree=1.0, learning_rate=0.2, max_depth=7, n_estimators=100, subsample=1.0; total time=   2.0s\n",
      "[CV] END colsample_bytree=1.0, learning_rate=0.2, max_depth=7, n_estimators=200, subsample=0.8; total time=   4.5s\n",
      "[CV] END colsample_bytree=1.0, learning_rate=0.2, max_depth=7, n_estimators=200, subsample=0.8; total time=   4.4s\n",
      "[CV] END colsample_bytree=1.0, learning_rate=0.2, max_depth=7, n_estimators=200, subsample=0.8; total time=   4.5s\n",
      "[CV] END colsample_bytree=1.0, learning_rate=0.2, max_depth=7, n_estimators=200, subsample=1.0; total time=   4.0s\n",
      "[CV] END colsample_bytree=1.0, learning_rate=0.2, max_depth=7, n_estimators=200, subsample=1.0; total time=   4.0s\n",
      "[CV] END colsample_bytree=1.0, learning_rate=0.2, max_depth=7, n_estimators=200, subsample=1.0; total time=   4.2s\n",
      "[CV] END colsample_bytree=1.0, learning_rate=0.2, max_depth=7, n_estimators=300, subsample=0.8; total time=   6.2s\n",
      "[CV] END colsample_bytree=1.0, learning_rate=0.2, max_depth=7, n_estimators=300, subsample=0.8; total time=   6.5s\n",
      "[CV] END colsample_bytree=1.0, learning_rate=0.2, max_depth=7, n_estimators=300, subsample=0.8; total time=   6.5s\n",
      "[CV] END colsample_bytree=1.0, learning_rate=0.2, max_depth=7, n_estimators=300, subsample=1.0; total time=   5.9s\n",
      "[CV] END colsample_bytree=1.0, learning_rate=0.2, max_depth=7, n_estimators=300, subsample=1.0; total time=   8.9s\n",
      "[CV] END colsample_bytree=1.0, learning_rate=0.2, max_depth=7, n_estimators=300, subsample=1.0; total time=   6.4s\n",
      "Mejores Hiperparámetros: {'colsample_bytree': 1.0, 'learning_rate': 0.01, 'max_depth': 7, 'n_estimators': 200, 'subsample': 0.8}\n",
      "F1 Score (Mejor XGBoost): 0.5564648117839607\n",
      "ROC AUC Score (Mejor XGBoost): 0.8441195581546458\n"
     ]
    }
   ],
   "source": [
    "#modelo\n",
    "model_xgb = XGBClassifier(use_label_encoder=False, eval_metric='logloss', random_state=12345)\n",
    "\n",
    "# hiperparámetros en grid \n",
    "param_grid = {\n",
    "    'n_estimators': [100, 200, 300],\n",
    "    'max_depth': [3, 5, 7],\n",
    "    'learning_rate': [0.01, 0.1, 0.2],\n",
    "    'subsample': [0.8, 1.0],\n",
    "    'colsample_bytree': [0.8, 1.0]\n",
    "}\n",
    "\n",
    "#configurar GridSearchCV\n",
    "grid_search = GridSearchCV(estimator=model_xgb, param_grid=param_grid, cv=3, scoring='f1', n_jobs=-1, verbose=2)\n",
    "\n",
    "#entrenar el GridSearchCV\n",
    "grid_search.fit(features_train, target_train)\n",
    "\n",
    "#mejores hiperparámetros\n",
    "best_model = grid_search.best_estimator_\n",
    "best_params = grid_search.best_params_\n",
    "\n",
    "print(\"Mejores Hiperparámetros:\", best_params)\n",
    "\n",
    "#modelo de validación\n",
    "prediccion_xgb_best = best_model.predict(features_valid)\n",
    "\n",
    "#F1 Score y ROC AUC Score\n",
    "f1_xgb_best = f1_score(target_valid, prediccion_xgb_best)\n",
    "roc_auc_xgb_best = roc_auc_score(target_valid, best_model.predict_proba(features_valid)[:, 1])\n",
    "\n",
    "print(\"F1 Score (Mejor XGBoost):\", f1_xgb_best)\n",
    "print(\"ROC AUC Score (Mejor XGBoost):\", roc_auc_xgb_best)\n"
   ]
  },
  {
   "cell_type": "markdown",
   "metadata": {},
   "source": [
    "Conclusión:\n",
    "El ajuste de hiperparámetros usando Grid Search en XGBoost mejoró ligeramente el rendimiento del modelo, alcanzando un F1 Score de 0.5565 y un ROC AUC de 0.8441. Aunque el rendimiento ha mejorado, aún está ligeramente por debajo del umbral deseado de 0.59."
   ]
  },
  {
   "cell_type": "markdown",
   "metadata": {},
   "source": [
    "###### Optimización del Umbral de Decisión"
   ]
  },
  {
   "cell_type": "code",
   "execution_count": 63,
   "metadata": {},
   "outputs": [
    {
     "name": "stdout",
     "output_type": "stream",
     "text": [
      "F1 Score (Random Forest con ajuste de peso): 0.5442404006677796\n",
      "ROC AUC Score (Random Forest con ajuste de peso): 0.8317202729044835\n"
     ]
    }
   ],
   "source": [
    "#modelo Random Forest con class_weight='balanced'\n",
    "model_rf_balanced = RandomForestClassifier(random_state=12345, class_weight='balanced')\n",
    "model_rf_balanced.fit(features_train, target_train)\n",
    "\n",
    "#predicciones de validación\n",
    "prediccion_rf_balanced = model_rf_balanced.predict(features_valid)\n",
    "\n",
    "#modelo con F1 y ROC AUC\n",
    "f1_rf_balanced = f1_score(target_valid, prediccion_rf_balanced)\n",
    "roc_auc_rf_balanced = roc_auc_score(target_valid, model_rf_balanced.predict_proba(features_valid)[:, 1])\n",
    "\n",
    "print(\"F1 Score (Random Forest con ajuste de peso):\", f1_rf_balanced)\n",
    "print(\"ROC AUC Score (Random Forest con ajuste de peso):\", roc_auc_rf_balanced)\n"
   ]
  },
  {
   "cell_type": "markdown",
   "metadata": {},
   "source": [
    "Conclusión:\n",
    "\n",
    "El modelo Random Forest ajustado con class_weight='balanced' logró un F1 Score de 0.5442 y un ROC AUC de 0.8317 en el conjunto de validación. El ajuste de pesos en el modelo ha mejorado ligeramente el F1 Score. Sin embargo sigue estando por debajo del umbral requerido de 0.59."
   ]
  },
  {
   "cell_type": "code",
   "execution_count": 64,
   "metadata": {},
   "outputs": [
    {
     "name": "stdout",
     "output_type": "stream",
     "text": [
      "Mejor Threshold: 0.4099999999999998\n",
      "Mejor F1 Score: 0.5878962536023055\n"
     ]
    }
   ],
   "source": [
    "# Entrenamiento del modelo Random Forest con class_weight='balanced'\n",
    "model_rf_balanced = RandomForestClassifier(random_state=12345, class_weight='balanced')\n",
    "model_rf_balanced.fit(features_train, target_train)\n",
    "\n",
    "# Obtener las probabilidades de predicción para la clase positiva\n",
    "probabilidades_valid_balanced = model_rf_balanced.predict_proba(features_valid)[:, 1]\n",
    "\n",
    "# Evaluar un rango de umbrales\n",
    "thresholds = np.arange(0.1, 0.9, 0.01)\n",
    "f1_scores_balanced = []\n",
    "\n",
    "for threshold in thresholds:\n",
    "    prediccion_thresh_balanced = (probabilidades_valid_balanced >= threshold).astype(int)\n",
    "    f1_balanced = f1_score(target_valid, prediccion_thresh_balanced)\n",
    "    f1_scores_balanced.append(f1_balanced)\n",
    "\n",
    "# Encontrar el umbral que maximiza el F1 Score\n",
    "best_threshold_balanced = thresholds[np.argmax(f1_scores_balanced)]\n",
    "best_f1_score_balanced = max(f1_scores_balanced)\n",
    "\n",
    "print(f\"Mejor Threshold: {best_threshold_balanced}\")\n",
    "print(f\"Mejor F1 Score: {best_f1_score_balanced}\")\n",
    "\n",
    "# Resultados esperados:\n",
    "# Mejor Threshold: 0.41\n",
    "# Mejor F1 Score: 0.5879\n"
   ]
  },
  {
   "cell_type": "markdown",
   "metadata": {},
   "source": [
    "Conclusión:\n",
    "\n",
    "Después de optimizar el umbral de decisión para el modelo Random Forest ajustado con class_weight='balanced', se logró un F1 Score de 0.5879 con un umbral de 0.41. Este resultado muestra una mejora en comparación con los modelos anteriores se acerca mucho al objetivo requerido de 0.59."
   ]
  },
  {
   "cell_type": "markdown",
   "metadata": {},
   "source": [
    "###### Implementación de técnicas de preprocesamiento"
   ]
  },
  {
   "cell_type": "code",
   "execution_count": 88,
   "metadata": {},
   "outputs": [
    {
     "name": "stdout",
     "output_type": "stream",
     "text": [
      "F1 Score Final en Test: 0.6319895968790638\n",
      "AUC-ROC Final en Test: 0.866227225596208\n"
     ]
    },
    {
     "data": {
      "image/png": "[encoded data removed]",
      "text/plain": [
       "<Figure size 640x480 with 2 Axes>"
      ]
     },
     "metadata": {},
     "output_type": "display_data"
    }
   ],
   "source": [
    "#aplicación del modelo de prueba\n",
    "probabilidades_test = best_model.predict_proba(features_test)[:, 1]\n",
    "prediccion_final_test = (probabilidades_test >= best_threshold_balanced).astype(int)\n",
    "\n",
    "#calcular las métricas finales \n",
    "f1_final_test = f1_score(target_test, prediccion_final_test)\n",
    "roc_auc_final_test = roc_auc_score(target_test, probabilidades_test)\n",
    "\n",
    "print(f\"F1 Score Final en Test: {f1_final_test}\")\n",
    "print(f\"AUC-ROC Final en Test: {roc_auc_final_test}\")\n",
    "\n",
    "#generar matriz de confusión\n",
    "conf_matrix_test = confusion_matrix(target_test, prediccion_final_test)\n",
    "sns.heatmap(conf_matrix_test, annot=True, fmt='d', cmap='Blues')\n",
    "plt.xlabel(\"Predicción\")\n",
    "plt.ylabel(\"Valor Real\")\n",
    "plt.title(\"Matriz de Confusión - Conjunto de Prueba\")\n",
    "plt.show()\n"
   ]
  },
  {
   "cell_type": "markdown",
   "metadata": {},
   "source": [
    "El modelo ha logrado un F1 Score de 0.6319 y un AUC-ROC de 0.8662. Esto indica que el modelo está generalizando bien y tiene un buen rendimiento en datos no vistos.\n"
   ]
  },
  {
   "cell_type": "markdown",
   "metadata": {},
   "source": [
    "###### Aplicación del Modelo de Prueba y Evaluación "
   ]
  },
  {
   "cell_type": "code",
   "execution_count": 91,
   "metadata": {},
   "outputs": [
    {
     "data": {
      "image/png": "[encoded data removed]",
      "text/plain": [
       "<Figure size 800x600 with 1 Axes>"
      ]
     },
     "metadata": {},
     "output_type": "display_data"
    }
   ],
   "source": [
    "#probabilidades predichas para la clase positiva en la prueba\n",
    "probabilidades_test = best_model.predict_proba(features_test)[:, 1]\n",
    "\n",
    "#calcular la curva ROC\n",
    "fpr, tpr, _ = roc_curve(target_test, probabilidades_test)\n",
    "roc_auc = auc(fpr, tpr)\n",
    "\n",
    "#graficar la curva ROC\n",
    "plt.figure(figsize=(8, 6))\n",
    "plt.plot(fpr, tpr, color='darkorange', lw=2, label=f'Curva ROC (área = {roc_auc:.2f})')\n",
    "plt.plot([0, 1], [0, 1], color='navy', lw=2, linestyle='--')\n",
    "plt.xlim([0.0, 1.0])\n",
    "plt.ylim([0.0, 1.05])\n",
    "plt.xlabel('Tasa de Falsos Positivos')\n",
    "plt.ylabel('Tasa de Verdaderos Positivos')\n",
    "plt.title('Curva ROC - Conjunto de Prueba')\n",
    "plt.legend(loc='lower right')\n",
    "plt.show()\n"
   ]
  },
  {
   "cell_type": "markdown",
   "metadata": {},
   "source": [
    "Conclusión:\n",
    "\n",
    "Para el proyecto de Beta Bank, la curva ROC está más cerca del eje Y (arriba a la izquierda) y el AUC-ROC es alto (0.866), esto indica que el modelo tiene un buen rendimiento para distinguir entre los clientes que abandonarán y los que permanecerán en el banco. \n",
    "\n",
    "    F1 Score Final en Test: El modelo logró un F1 Score de 0.6319 en el conjunto de prueba, lo que es superior al umbral de 0.59 establecido.\n",
    "    \n",
    "    AUC-ROC Final en Test: El AUC-ROC de 0.8662 en el conjunto de prueba indica que el modelo tiene una buena capacidad de discriminación entre las clases positivas y negativas.\n",
    "    \n",
    "    Matriz de Confusión: La matriz de confusión muestra un buen equilibrio entre los verdaderos positivos y los verdaderos negativos, con relativamente pocos falsos positivos y falsos negativos."
   ]
  },
  {
   "cell_type": "markdown",
   "metadata": {},
   "source": [
    "### Conclusión Final:\n",
    "\n",
    "El proyecto tenía como objetivo desarrollar un modelo de machine learning que pudiera predecir con precisión si un cliente abandonará Beta Bank en el futuro cercano. Utilizando datos históricos sobre el comportamiento de los clientes y la terminación de contratos, con un umbral mínimo establecido en 0.59.\n",
    "\n",
    "Resultados principales:\n",
    "\n",
    "  - Modelo final: Después de probar varios enfoques y modelos, incluyendo regresión logística, Random Forest, y XGBoost, el modelo Random Forest con ajuste de pesos (class_weight='balanced') se seleccionó como el mejor modelo.\n",
    "  \n",
    "\n",
    "  - Optimización de Umbral: Se realizó una optimización del umbral de decisión para maximizar el F1 Score. El mejor umbral encontrado fue 0.41, lo que resultó en un F1 Score de 0.5879 en el conjunto de validación.\n",
    "\n",
    "  \n",
    "  - Prueba Final: El modelo final se aplicó al conjunto de prueba, logrando un F1 Score de 0.6319 y un AUC-ROC de 0.8662, superando el umbral requerido de 0.59.\n",
    "\n",
    "Conclusiones:\n",
    "\n",
    "   - Rendimiento del modelo: El modelo Random Forest cumplió con los requisitos establecidos en el F1 Score y también demostró un sólido rendimiento en AUC-ROC, indicando una buena capacidad de discriminación entre clases. Esto sugiere que el modelo es capaz de identificar correctamente a los clientes que están en riesgo de abandonar el banco.\n",
    "   \n",
    "\n",
    "   - Recomendaciones para Beta Bank: Dado que es más económico retener a los clientes existentes que atraer a nuevos, Beta Bank puede utilizar este modelo para identificar a los clientes en riesgo y dirigir esfuerzos específicos para retenerlos, como ofrecer incentivos personalizados o mejoras en el servicio."
   ]
  }
 ],
 "metadata": {
  "ExecuteTimeLog": [
   {
    "duration": 436,
    "start_time": "2024-08-17T22:14:00.465Z"
   },
   {
    "duration": 67,
    "start_time": "2024-08-17T23:04:45.511Z"
   },
   {
    "duration": 162,
    "start_time": "2024-08-17T23:04:52.330Z"
   },
   {
    "duration": 34,
    "start_time": "2024-08-17T23:04:59.135Z"
   },
   {
    "duration": 18,
    "start_time": "2024-08-17T23:05:30.273Z"
   },
   {
    "duration": 18,
    "start_time": "2024-08-17T23:05:34.559Z"
   },
   {
    "duration": 36,
    "start_time": "2024-08-17T23:06:03.941Z"
   },
   {
    "duration": 15,
    "start_time": "2024-08-17T23:06:11.237Z"
   },
   {
    "duration": 16,
    "start_time": "2024-08-17T23:06:20.670Z"
   },
   {
    "duration": 312,
    "start_time": "2024-08-18T08:42:51.091Z"
   },
   {
    "duration": 22,
    "start_time": "2024-08-18T08:45:54.078Z"
   },
   {
    "duration": 459,
    "start_time": "2024-08-18T08:46:10.234Z"
   },
   {
    "duration": 57,
    "start_time": "2024-08-18T08:46:10.697Z"
   },
   {
    "duration": 16,
    "start_time": "2024-08-18T08:46:11.002Z"
   },
   {
    "duration": 7,
    "start_time": "2024-08-18T08:46:12.809Z"
   },
   {
    "duration": 5,
    "start_time": "2024-08-18T09:34:43.829Z"
   },
   {
    "duration": 27,
    "start_time": "2024-08-18T09:35:08.813Z"
   },
   {
    "duration": 1377,
    "start_time": "2024-08-18T09:35:41.047Z"
   },
   {
    "duration": 66,
    "start_time": "2024-08-18T09:35:59.101Z"
   },
   {
    "duration": 68,
    "start_time": "2024-08-18T09:36:23.820Z"
   },
   {
    "duration": 3,
    "start_time": "2024-08-18T09:36:34.106Z"
   },
   {
    "duration": 35,
    "start_time": "2024-08-18T09:36:34.484Z"
   },
   {
    "duration": 18,
    "start_time": "2024-08-18T09:36:34.872Z"
   },
   {
    "duration": 7,
    "start_time": "2024-08-18T09:36:35.258Z"
   },
   {
    "duration": 27,
    "start_time": "2024-08-18T09:36:35.530Z"
   },
   {
    "duration": 67,
    "start_time": "2024-08-18T09:36:54.880Z"
   },
   {
    "duration": 7,
    "start_time": "2024-08-18T09:37:33.934Z"
   },
   {
    "duration": 72,
    "start_time": "2024-08-18T09:37:47.549Z"
   },
   {
    "duration": 4,
    "start_time": "2024-08-18T09:37:55.841Z"
   },
   {
    "duration": 38,
    "start_time": "2024-08-18T09:37:56.049Z"
   },
   {
    "duration": 17,
    "start_time": "2024-08-18T09:37:56.267Z"
   },
   {
    "duration": 6,
    "start_time": "2024-08-18T09:37:56.428Z"
   },
   {
    "duration": 27,
    "start_time": "2024-08-18T09:37:56.616Z"
   },
   {
    "duration": 76,
    "start_time": "2024-08-18T09:38:29.652Z"
   },
   {
    "duration": 67,
    "start_time": "2024-08-18T09:38:41.677Z"
   },
   {
    "duration": 450,
    "start_time": "2024-08-18T09:38:50.637Z"
   },
   {
    "duration": 57,
    "start_time": "2024-08-18T09:38:51.091Z"
   },
   {
    "duration": 19,
    "start_time": "2024-08-18T09:38:51.152Z"
   },
   {
    "duration": 7,
    "start_time": "2024-08-18T09:38:51.175Z"
   },
   {
    "duration": 7,
    "start_time": "2024-08-18T09:38:51.185Z"
   },
   {
    "duration": 1651,
    "start_time": "2024-08-18T09:38:56.718Z"
   },
   {
    "duration": 67,
    "start_time": "2024-08-18T09:39:22.349Z"
   },
   {
    "duration": 5,
    "start_time": "2024-08-18T09:39:40.153Z"
   },
   {
    "duration": 37,
    "start_time": "2024-08-18T09:39:40.360Z"
   },
   {
    "duration": 15,
    "start_time": "2024-08-18T09:39:40.602Z"
   },
   {
    "duration": 7,
    "start_time": "2024-08-18T09:39:40.824Z"
   },
   {
    "duration": 6,
    "start_time": "2024-08-18T09:39:40.997Z"
   },
   {
    "duration": 26,
    "start_time": "2024-08-18T09:39:49.542Z"
   },
   {
    "duration": 6,
    "start_time": "2024-08-18T09:40:06.109Z"
   },
   {
    "duration": 22,
    "start_time": "2024-08-18T09:50:24.004Z"
   },
   {
    "duration": 11,
    "start_time": "2024-08-18T09:50:41.062Z"
   },
   {
    "duration": 9,
    "start_time": "2024-08-18T09:51:10.325Z"
   },
   {
    "duration": 29,
    "start_time": "2024-08-18T09:52:35.554Z"
   },
   {
    "duration": 20,
    "start_time": "2024-08-18T10:04:13.280Z"
   },
   {
    "duration": 19,
    "start_time": "2024-08-18T10:04:22.025Z"
   },
   {
    "duration": 3,
    "start_time": "2024-08-18T10:04:41.230Z"
   },
   {
    "duration": 36,
    "start_time": "2024-08-18T10:04:41.411Z"
   },
   {
    "duration": 17,
    "start_time": "2024-08-18T10:04:41.748Z"
   },
   {
    "duration": 7,
    "start_time": "2024-08-18T10:04:41.947Z"
   },
   {
    "duration": 35,
    "start_time": "2024-08-18T10:04:42.145Z"
   },
   {
    "duration": 18,
    "start_time": "2024-08-18T10:04:42.315Z"
   },
   {
    "duration": 7,
    "start_time": "2024-08-18T10:04:42.457Z"
   },
   {
    "duration": 11,
    "start_time": "2024-08-18T10:04:59.111Z"
   },
   {
    "duration": 10,
    "start_time": "2024-08-18T10:12:05.626Z"
   },
   {
    "duration": 17,
    "start_time": "2024-08-18T10:13:39.308Z"
   },
   {
    "duration": 17,
    "start_time": "2024-08-18T10:13:49.456Z"
   },
   {
    "duration": 13,
    "start_time": "2024-08-18T10:17:00.658Z"
   },
   {
    "duration": 13,
    "start_time": "2024-08-18T10:17:08.657Z"
   },
   {
    "duration": 33,
    "start_time": "2024-08-18T10:24:01.579Z"
   },
   {
    "duration": 22,
    "start_time": "2024-08-18T10:24:55.701Z"
   },
   {
    "duration": 420,
    "start_time": "2024-08-18T23:15:18.672Z"
   },
   {
    "duration": 56,
    "start_time": "2024-08-18T23:15:19.096Z"
   },
   {
    "duration": 19,
    "start_time": "2024-08-18T23:15:19.156Z"
   },
   {
    "duration": 8,
    "start_time": "2024-08-18T23:15:19.178Z"
   },
   {
    "duration": 34,
    "start_time": "2024-08-18T23:15:19.213Z"
   },
   {
    "duration": 10,
    "start_time": "2024-08-18T23:15:19.250Z"
   },
   {
    "duration": 50,
    "start_time": "2024-08-18T23:15:19.263Z"
   },
   {
    "duration": 7,
    "start_time": "2024-08-18T23:15:19.316Z"
   },
   {
    "duration": 26,
    "start_time": "2024-08-18T23:15:19.328Z"
   },
   {
    "duration": 754,
    "start_time": "2024-08-18T23:38:00.393Z"
   },
   {
    "duration": 426,
    "start_time": "2024-08-18T23:52:51.226Z"
   },
   {
    "duration": 7,
    "start_time": "2024-08-18T23:53:08.657Z"
   },
   {
    "duration": 26,
    "start_time": "2024-08-19T00:02:55.105Z"
   },
   {
    "duration": 20,
    "start_time": "2024-08-19T00:03:21.643Z"
   },
   {
    "duration": 12,
    "start_time": "2024-08-19T00:03:39.483Z"
   },
   {
    "duration": 53,
    "start_time": "2024-08-19T00:04:25.773Z"
   },
   {
    "duration": 45,
    "start_time": "2024-08-19T00:36:17.189Z"
   },
   {
    "duration": 4,
    "start_time": "2024-08-19T00:36:47.076Z"
   },
   {
    "duration": 147,
    "start_time": "2024-08-19T00:47:03.668Z"
   },
   {
    "duration": 51,
    "start_time": "2024-08-19T00:47:29.155Z"
   },
   {
    "duration": 1148,
    "start_time": "2024-08-19T03:57:02.779Z"
   },
   {
    "duration": 57,
    "start_time": "2024-08-19T03:57:03.931Z"
   },
   {
    "duration": 17,
    "start_time": "2024-08-19T03:57:03.991Z"
   },
   {
    "duration": 60,
    "start_time": "2024-08-19T03:57:04.012Z"
   },
   {
    "duration": 7,
    "start_time": "2024-08-19T03:57:04.078Z"
   },
   {
    "duration": 58,
    "start_time": "2024-08-19T03:57:04.088Z"
   },
   {
    "duration": 10,
    "start_time": "2024-08-19T03:57:04.149Z"
   },
   {
    "duration": 16,
    "start_time": "2024-08-19T03:57:04.162Z"
   },
   {
    "duration": 7,
    "start_time": "2024-08-19T03:57:04.181Z"
   },
   {
    "duration": 29,
    "start_time": "2024-08-19T03:57:04.232Z"
   },
   {
    "duration": 12,
    "start_time": "2024-08-19T03:57:04.264Z"
   },
   {
    "duration": 81,
    "start_time": "2024-08-19T03:57:04.281Z"
   },
   {
    "duration": 6,
    "start_time": "2024-08-19T03:57:04.365Z"
   },
   {
    "duration": 31,
    "start_time": "2024-08-19T03:59:26.693Z"
   },
   {
    "duration": 476,
    "start_time": "2024-08-19T04:02:28.576Z"
   },
   {
    "duration": 1107,
    "start_time": "2024-08-19T04:03:00.020Z"
   },
   {
    "duration": 1188,
    "start_time": "2024-08-19T04:08:40.073Z"
   },
   {
    "duration": 1153,
    "start_time": "2024-08-19T04:09:27.731Z"
   },
   {
    "duration": 4,
    "start_time": "2024-08-19T04:16:05.465Z"
   },
   {
    "duration": 51,
    "start_time": "2024-08-19T04:26:42.291Z"
   },
   {
    "duration": 50,
    "start_time": "2024-08-19T04:26:45.499Z"
   },
   {
    "duration": 49,
    "start_time": "2024-08-19T04:27:12.947Z"
   },
   {
    "duration": 36,
    "start_time": "2024-08-19T05:15:56.669Z"
   },
   {
    "duration": 2279,
    "start_time": "2024-08-19T05:16:08.077Z"
   },
   {
    "duration": 2280,
    "start_time": "2024-08-19T05:16:35.542Z"
   },
   {
    "duration": 3368,
    "start_time": "2024-08-19T05:33:34.260Z"
   },
   {
    "duration": 2066,
    "start_time": "2024-08-19T06:29:40.851Z"
   },
   {
    "duration": 2238,
    "start_time": "2024-08-19T06:30:36.612Z"
   },
   {
    "duration": 2300,
    "start_time": "2024-08-19T06:31:50.057Z"
   },
   {
    "duration": 3351,
    "start_time": "2024-08-19T06:34:17.161Z"
   },
   {
    "duration": 5131,
    "start_time": "2024-08-19T06:34:41.884Z"
   },
   {
    "duration": 5,
    "start_time": "2024-08-19T06:35:02.455Z"
   },
   {
    "duration": 5,
    "start_time": "2024-08-19T07:06:49.561Z"
   },
   {
    "duration": 929,
    "start_time": "2024-08-19T07:30:39.080Z"
   },
   {
    "duration": 26,
    "start_time": "2024-08-19T07:57:52.481Z"
   },
   {
    "duration": 26,
    "start_time": "2024-08-19T07:58:23.548Z"
   },
   {
    "duration": 10,
    "start_time": "2024-08-19T07:58:35.749Z"
   },
   {
    "duration": 4,
    "start_time": "2024-08-19T07:58:46.430Z"
   },
   {
    "duration": 8,
    "start_time": "2024-08-19T07:58:50.669Z"
   },
   {
    "duration": 9,
    "start_time": "2024-08-19T07:59:23.202Z"
   },
   {
    "duration": 31,
    "start_time": "2024-08-19T08:00:26.405Z"
   },
   {
    "duration": 28,
    "start_time": "2024-08-19T08:02:27.789Z"
   },
   {
    "duration": 33,
    "start_time": "2024-08-19T08:02:43.773Z"
   },
   {
    "duration": 64,
    "start_time": "2024-08-19T08:03:13.375Z"
   },
   {
    "duration": 5,
    "start_time": "2024-08-19T08:03:33.381Z"
   },
   {
    "duration": 36,
    "start_time": "2024-08-19T08:03:33.672Z"
   },
   {
    "duration": 16,
    "start_time": "2024-08-19T08:03:33.896Z"
   },
   {
    "duration": 47,
    "start_time": "2024-08-19T08:03:34.096Z"
   },
   {
    "duration": 7,
    "start_time": "2024-08-19T08:03:34.297Z"
   },
   {
    "duration": 33,
    "start_time": "2024-08-19T08:03:34.496Z"
   },
   {
    "duration": 11,
    "start_time": "2024-08-19T08:03:34.730Z"
   },
   {
    "duration": 16,
    "start_time": "2024-08-19T08:03:35.152Z"
   },
   {
    "duration": 7,
    "start_time": "2024-08-19T08:03:35.409Z"
   },
   {
    "duration": 24,
    "start_time": "2024-08-19T08:03:35.657Z"
   },
   {
    "duration": 12,
    "start_time": "2024-08-19T08:03:35.927Z"
   },
   {
    "duration": 52,
    "start_time": "2024-08-19T08:03:36.183Z"
   },
   {
    "duration": 936,
    "start_time": "2024-08-19T08:03:36.652Z"
   },
   {
    "duration": 61,
    "start_time": "2024-08-19T08:03:37.591Z"
   },
   {
    "duration": 5132,
    "start_time": "2024-08-19T08:03:37.792Z"
   },
   {
    "duration": 51,
    "start_time": "2024-08-19T08:03:42.935Z"
   },
   {
    "duration": 0,
    "start_time": "2024-08-19T08:03:42.989Z"
   },
   {
    "duration": 0,
    "start_time": "2024-08-19T08:03:42.991Z"
   },
   {
    "duration": 54,
    "start_time": "2024-08-19T08:03:57.259Z"
   },
   {
    "duration": 25,
    "start_time": "2024-08-19T08:03:58.436Z"
   },
   {
    "duration": 4,
    "start_time": "2024-08-19T08:05:35.041Z"
   },
   {
    "duration": 51,
    "start_time": "2024-08-19T08:05:43.985Z"
   },
   {
    "duration": 5,
    "start_time": "2024-08-19T08:07:19.422Z"
   },
   {
    "duration": 27,
    "start_time": "2024-08-19T08:07:27.040Z"
   },
   {
    "duration": 2261,
    "start_time": "2024-08-19T08:07:54.585Z"
   },
   {
    "duration": 2247,
    "start_time": "2024-08-19T08:08:07.137Z"
   },
   {
    "duration": 3336,
    "start_time": "2024-08-19T08:22:37.114Z"
   },
   {
    "duration": 20,
    "start_time": "2024-08-19T08:22:48.779Z"
   },
   {
    "duration": 2253,
    "start_time": "2024-08-19T08:22:49.251Z"
   },
   {
    "duration": 5,
    "start_time": "2024-08-19T08:44:33.819Z"
   },
   {
    "duration": 728,
    "start_time": "2024-08-19T08:53:29.547Z"
   },
   {
    "duration": 140,
    "start_time": "2024-08-19T08:53:34.748Z"
   },
   {
    "duration": 66,
    "start_time": "2024-08-19T08:53:52.957Z"
   },
   {
    "duration": 157,
    "start_time": "2024-08-19T09:17:56.334Z"
   },
   {
    "duration": 153,
    "start_time": "2024-08-19T09:18:10.502Z"
   },
   {
    "duration": 152,
    "start_time": "2024-08-19T09:18:22.551Z"
   },
   {
    "duration": 151,
    "start_time": "2024-08-19T09:19:02.545Z"
   },
   {
    "duration": 150,
    "start_time": "2024-08-19T09:20:32.816Z"
   },
   {
    "duration": 158,
    "start_time": "2024-08-19T09:20:42.297Z"
   },
   {
    "duration": 1243,
    "start_time": "2024-08-19T20:45:49.602Z"
   },
   {
    "duration": 57,
    "start_time": "2024-08-19T20:45:50.849Z"
   },
   {
    "duration": 19,
    "start_time": "2024-08-19T20:45:50.909Z"
   },
   {
    "duration": 49,
    "start_time": "2024-08-19T20:45:50.933Z"
   },
   {
    "duration": 7,
    "start_time": "2024-08-19T20:45:51.007Z"
   },
   {
    "duration": 35,
    "start_time": "2024-08-19T20:45:51.017Z"
   },
   {
    "duration": 12,
    "start_time": "2024-08-19T20:45:51.055Z"
   },
   {
    "duration": 17,
    "start_time": "2024-08-19T20:45:51.108Z"
   },
   {
    "duration": 10,
    "start_time": "2024-08-19T20:45:51.136Z"
   },
   {
    "duration": 26,
    "start_time": "2024-08-19T20:45:51.325Z"
   },
   {
    "duration": 12,
    "start_time": "2024-08-19T20:45:51.534Z"
   },
   {
    "duration": 65,
    "start_time": "2024-08-19T20:45:51.742Z"
   },
   {
    "duration": 939,
    "start_time": "2024-08-19T20:45:52.211Z"
   },
   {
    "duration": 61,
    "start_time": "2024-08-19T20:45:53.154Z"
   },
   {
    "duration": 3424,
    "start_time": "2024-08-19T20:45:53.218Z"
   },
   {
    "duration": 421,
    "start_time": "2024-08-19T20:45:56.646Z"
   },
   {
    "duration": 0,
    "start_time": "2024-08-19T20:45:57.071Z"
   },
   {
    "duration": 0,
    "start_time": "2024-08-19T20:45:57.072Z"
   },
   {
    "duration": 0,
    "start_time": "2024-08-19T20:45:57.075Z"
   },
   {
    "duration": 0,
    "start_time": "2024-08-19T20:45:57.077Z"
   },
   {
    "duration": 5,
    "start_time": "2024-08-19T20:46:08.883Z"
   },
   {
    "duration": 29,
    "start_time": "2024-08-19T20:46:14.511Z"
   },
   {
    "duration": 29,
    "start_time": "2024-08-19T20:49:47.701Z"
   },
   {
    "duration": 2255,
    "start_time": "2024-08-19T20:49:53.828Z"
   },
   {
    "duration": 66,
    "start_time": "2024-08-19T20:49:57.060Z"
   },
   {
    "duration": 168,
    "start_time": "2024-08-19T20:49:57.909Z"
   },
   {
    "duration": 1201,
    "start_time": "2024-08-19T20:49:58.549Z"
   },
   {
    "duration": 8,
    "start_time": "2024-08-19T22:04:37.206Z"
   },
   {
    "duration": 12,
    "start_time": "2024-08-19T22:44:28.574Z"
   },
   {
    "duration": 39,
    "start_time": "2024-08-19T22:44:53.708Z"
   },
   {
    "duration": 118,
    "start_time": "2024-08-19T22:45:20.184Z"
   },
   {
    "duration": 42,
    "start_time": "2024-08-19T22:47:13.610Z"
   },
   {
    "duration": 624,
    "start_time": "2024-08-19T22:47:51.722Z"
   },
   {
    "duration": 3094794,
    "start_time": "2024-08-19T22:48:17.612Z"
   },
   {
    "duration": 3768,
    "start_time": "2024-08-20T01:23:02.166Z"
   },
   {
    "duration": 3796,
    "start_time": "2024-08-20T01:23:09.032Z"
   },
   {
    "duration": 1245,
    "start_time": "2024-08-20T02:37:29.778Z"
   },
   {
    "duration": 59,
    "start_time": "2024-08-20T02:37:31.027Z"
   },
   {
    "duration": 18,
    "start_time": "2024-08-20T02:37:31.091Z"
   },
   {
    "duration": 64,
    "start_time": "2024-08-20T02:37:31.113Z"
   },
   {
    "duration": 30,
    "start_time": "2024-08-20T02:37:31.183Z"
   },
   {
    "duration": 36,
    "start_time": "2024-08-20T02:37:31.217Z"
   },
   {
    "duration": 13,
    "start_time": "2024-08-20T02:37:31.256Z"
   },
   {
    "duration": 49,
    "start_time": "2024-08-20T02:37:31.273Z"
   },
   {
    "duration": 7,
    "start_time": "2024-08-20T02:37:31.325Z"
   },
   {
    "duration": 31,
    "start_time": "2024-08-20T02:37:31.337Z"
   },
   {
    "duration": 51,
    "start_time": "2024-08-20T02:37:31.372Z"
   },
   {
    "duration": 112,
    "start_time": "2024-08-20T02:37:31.426Z"
   },
   {
    "duration": 1078,
    "start_time": "2024-08-20T02:37:31.544Z"
   },
   {
    "duration": 51,
    "start_time": "2024-08-20T02:37:32.628Z"
   },
   {
    "duration": 3585,
    "start_time": "2024-08-20T02:37:32.685Z"
   },
   {
    "duration": 43,
    "start_time": "2024-08-20T02:37:36.273Z"
   },
   {
    "duration": 2400,
    "start_time": "2024-08-20T02:37:36.320Z"
   },
   {
    "duration": 93,
    "start_time": "2024-08-20T02:37:38.723Z"
   },
   {
    "duration": 175,
    "start_time": "2024-08-20T02:37:38.819Z"
   },
   {
    "duration": 1253,
    "start_time": "2024-08-20T02:37:38.997Z"
   },
   {
    "duration": 3100135,
    "start_time": "2024-08-20T02:37:40.256Z"
   },
   {
    "duration": 3874,
    "start_time": "2024-08-20T03:29:20.394Z"
   },
   {
    "duration": 9,
    "start_time": "2024-08-20T04:24:58.167Z"
   },
   {
    "duration": 454,
    "start_time": "2024-08-20T04:25:57.100Z"
   },
   {
    "duration": 136,
    "start_time": "2024-08-20T04:26:07.699Z"
   },
   {
    "duration": 135,
    "start_time": "2024-08-20T04:26:17.572Z"
   },
   {
    "duration": 5,
    "start_time": "2024-08-20T04:43:21.851Z"
   },
   {
    "duration": 6,
    "start_time": "2024-08-20T04:44:15.079Z"
   },
   {
    "duration": 25,
    "start_time": "2024-08-20T04:48:42.027Z"
   },
   {
    "duration": 24,
    "start_time": "2024-08-20T04:49:10.382Z"
   },
   {
    "duration": 28,
    "start_time": "2024-08-20T04:49:36.760Z"
   },
   {
    "duration": 29,
    "start_time": "2024-08-20T05:00:51.491Z"
   },
   {
    "duration": 24,
    "start_time": "2024-08-20T05:01:17.079Z"
   },
   {
    "duration": 8,
    "start_time": "2024-08-20T05:02:39.899Z"
   },
   {
    "duration": 25,
    "start_time": "2024-08-20T05:02:44.571Z"
   },
   {
    "duration": 25,
    "start_time": "2024-08-20T05:02:48.133Z"
   },
   {
    "duration": 15,
    "start_time": "2024-08-20T05:02:58.860Z"
   },
   {
    "duration": 1129,
    "start_time": "2024-08-20T05:06:59.877Z"
   },
   {
    "duration": 1127,
    "start_time": "2024-08-20T05:14:01.272Z"
   },
   {
    "duration": 3333530,
    "start_time": "2024-08-20T05:21:52.292Z"
   },
   {
    "duration": 12,
    "start_time": "2024-08-20T06:17:25.826Z"
   },
   {
    "duration": 3,
    "start_time": "2024-08-20T06:17:25.841Z"
   },
   {
    "duration": 3520,
    "start_time": "2024-08-20T06:17:25.848Z"
   },
   {
    "duration": 71,
    "start_time": "2024-08-20T06:17:29.371Z"
   },
   {
    "duration": 30,
    "start_time": "2024-08-20T06:17:29.446Z"
   },
   {
    "duration": 3347,
    "start_time": "2024-08-20T06:17:36.301Z"
   },
   {
    "duration": 5,
    "start_time": "2024-08-20T06:17:39.652Z"
   },
   {
    "duration": 29,
    "start_time": "2024-08-20T06:17:39.661Z"
   },
   {
    "duration": 27,
    "start_time": "2024-08-20T06:17:43.037Z"
   },
   {
    "duration": 3,
    "start_time": "2024-08-20T06:18:02.215Z"
   },
   {
    "duration": 25,
    "start_time": "2024-08-20T06:18:03.977Z"
   },
   {
    "duration": 32,
    "start_time": "2024-08-20T06:50:26.279Z"
   },
   {
    "duration": 24,
    "start_time": "2024-08-20T06:50:26.737Z"
   },
   {
    "duration": 28,
    "start_time": "2024-08-20T06:50:27.346Z"
   },
   {
    "duration": 26,
    "start_time": "2024-08-20T06:50:27.972Z"
   },
   {
    "duration": 30,
    "start_time": "2024-08-20T06:50:34.664Z"
   },
   {
    "duration": 26,
    "start_time": "2024-08-20T06:51:36.984Z"
   },
   {
    "duration": 28,
    "start_time": "2024-08-20T06:51:40.477Z"
   },
   {
    "duration": 1192,
    "start_time": "2024-08-20T06:51:58.464Z"
   },
   {
    "duration": 53,
    "start_time": "2024-08-20T06:51:59.659Z"
   },
   {
    "duration": 18,
    "start_time": "2024-08-20T06:51:59.715Z"
   },
   {
    "duration": 78,
    "start_time": "2024-08-20T06:51:59.736Z"
   },
   {
    "duration": 7,
    "start_time": "2024-08-20T06:51:59.819Z"
   },
   {
    "duration": 37,
    "start_time": "2024-08-20T06:51:59.830Z"
   },
   {
    "duration": 47,
    "start_time": "2024-08-20T06:51:59.871Z"
   },
   {
    "duration": 16,
    "start_time": "2024-08-20T06:51:59.921Z"
   },
   {
    "duration": 7,
    "start_time": "2024-08-20T06:51:59.940Z"
   },
   {
    "duration": 63,
    "start_time": "2024-08-20T06:51:59.951Z"
   },
   {
    "duration": 7,
    "start_time": "2024-08-20T06:52:00.017Z"
   },
   {
    "duration": 10,
    "start_time": "2024-08-20T06:52:00.027Z"
   },
   {
    "duration": 97,
    "start_time": "2024-08-20T06:52:00.040Z"
   },
   {
    "duration": 1100,
    "start_time": "2024-08-20T06:52:00.143Z"
   },
   {
    "duration": 49,
    "start_time": "2024-08-20T06:52:01.245Z"
   },
   {
    "duration": 3443,
    "start_time": "2024-08-20T06:52:01.312Z"
   },
   {
    "duration": 23,
    "start_time": "2024-08-20T06:52:04.758Z"
   },
   {
    "duration": 2283,
    "start_time": "2024-08-20T06:52:04.784Z"
   },
   {
    "duration": 79,
    "start_time": "2024-08-20T06:52:07.071Z"
   },
   {
    "duration": 172,
    "start_time": "2024-08-20T06:52:07.153Z"
   },
   {
    "duration": 1201,
    "start_time": "2024-08-20T06:52:07.329Z"
   },
   {
    "duration": 2971475,
    "start_time": "2024-08-20T06:52:08.534Z"
   },
   {
    "duration": 3713,
    "start_time": "2024-08-20T07:41:40.013Z"
   },
   {
    "duration": 18,
    "start_time": "2024-08-20T07:41:43.729Z"
   },
   {
    "duration": 1156,
    "start_time": "2024-08-20T07:41:43.750Z"
   },
   {
    "duration": 465,
    "start_time": "2024-08-20T07:41:44.913Z"
   },
   {
    "duration": 0,
    "start_time": "2024-08-20T07:41:45.382Z"
   },
   {
    "duration": 0,
    "start_time": "2024-08-20T07:41:45.384Z"
   },
   {
    "duration": 0,
    "start_time": "2024-08-20T07:41:45.387Z"
   },
   {
    "duration": 0,
    "start_time": "2024-08-20T07:41:45.388Z"
   },
   {
    "duration": 691,
    "start_time": "2024-08-20T07:57:28.869Z"
   },
   {
    "duration": 29,
    "start_time": "2024-08-20T07:58:43.926Z"
   },
   {
    "duration": 134,
    "start_time": "2024-08-20T08:06:37.181Z"
   },
   {
    "duration": 5,
    "start_time": "2024-08-20T08:06:48.014Z"
   },
   {
    "duration": 141,
    "start_time": "2024-08-20T08:06:53.120Z"
   },
   {
    "duration": 1425,
    "start_time": "2024-08-20T08:07:11.896Z"
   },
   {
    "duration": 1223,
    "start_time": "2024-08-20T08:07:34.936Z"
   },
   {
    "duration": 1231,
    "start_time": "2024-08-20T08:08:10.235Z"
   },
   {
    "duration": 45,
    "start_time": "2024-08-20T08:08:11.470Z"
   },
   {
    "duration": 934,
    "start_time": "2024-08-20T08:08:14.796Z"
   },
   {
    "duration": 46,
    "start_time": "2024-08-20T08:08:19.716Z"
   },
   {
    "duration": 1232,
    "start_time": "2024-08-20T08:18:52.978Z"
   },
   {
    "duration": 10,
    "start_time": "2024-08-20T08:19:16.376Z"
   },
   {
    "duration": 1218,
    "start_time": "2024-08-20T08:19:17.008Z"
   },
   {
    "duration": 22,
    "start_time": "2024-08-20T08:19:18.230Z"
   },
   {
    "duration": 946,
    "start_time": "2024-08-20T08:19:18.568Z"
   },
   {
    "duration": 44,
    "start_time": "2024-08-20T08:19:19.518Z"
   },
   {
    "duration": 1225,
    "start_time": "2024-08-20T08:24:41.141Z"
   },
   {
    "duration": 1226,
    "start_time": "2024-08-20T08:24:50.935Z"
   },
   {
    "duration": 3,
    "start_time": "2024-08-20T08:37:14.362Z"
   },
   {
    "duration": 35,
    "start_time": "2024-08-20T08:44:54.540Z"
   },
   {
    "duration": 3990,
    "start_time": "2024-08-20T08:44:58.277Z"
   },
   {
    "duration": 1567,
    "start_time": "2024-08-20T08:45:02.607Z"
   },
   {
    "duration": 1639,
    "start_time": "2024-08-20T14:45:44.719Z"
   },
   {
    "duration": 44,
    "start_time": "2024-08-20T14:45:46.361Z"
   },
   {
    "duration": 21,
    "start_time": "2024-08-20T14:45:46.414Z"
   },
   {
    "duration": 80,
    "start_time": "2024-08-20T14:45:46.440Z"
   },
   {
    "duration": 7,
    "start_time": "2024-08-20T14:45:46.523Z"
   },
   {
    "duration": 33,
    "start_time": "2024-08-20T14:45:46.533Z"
   },
   {
    "duration": 43,
    "start_time": "2024-08-20T14:45:46.569Z"
   },
   {
    "duration": 16,
    "start_time": "2024-08-20T14:45:46.615Z"
   },
   {
    "duration": 6,
    "start_time": "2024-08-20T14:45:46.634Z"
   },
   {
    "duration": 64,
    "start_time": "2024-08-20T14:45:46.649Z"
   },
   {
    "duration": 7,
    "start_time": "2024-08-20T14:45:46.716Z"
   },
   {
    "duration": 10,
    "start_time": "2024-08-20T14:45:46.726Z"
   },
   {
    "duration": 475,
    "start_time": "2024-08-20T14:45:46.739Z"
   },
   {
    "duration": 0,
    "start_time": "2024-08-20T14:45:47.217Z"
   },
   {
    "duration": 0,
    "start_time": "2024-08-20T14:45:47.219Z"
   },
   {
    "duration": 0,
    "start_time": "2024-08-20T14:45:47.221Z"
   },
   {
    "duration": 0,
    "start_time": "2024-08-20T14:45:47.223Z"
   },
   {
    "duration": 0,
    "start_time": "2024-08-20T14:45:47.225Z"
   },
   {
    "duration": 0,
    "start_time": "2024-08-20T14:45:47.228Z"
   },
   {
    "duration": 0,
    "start_time": "2024-08-20T14:45:47.231Z"
   },
   {
    "duration": 0,
    "start_time": "2024-08-20T14:45:47.233Z"
   },
   {
    "duration": 0,
    "start_time": "2024-08-20T14:45:47.235Z"
   },
   {
    "duration": 0,
    "start_time": "2024-08-20T14:45:47.237Z"
   },
   {
    "duration": 0,
    "start_time": "2024-08-20T14:45:47.238Z"
   },
   {
    "duration": 0,
    "start_time": "2024-08-20T14:45:47.242Z"
   },
   {
    "duration": 0,
    "start_time": "2024-08-20T14:45:47.244Z"
   },
   {
    "duration": 0,
    "start_time": "2024-08-20T14:45:47.246Z"
   },
   {
    "duration": 23,
    "start_time": "2024-08-20T14:48:13.798Z"
   },
   {
    "duration": 1290,
    "start_time": "2024-08-20T14:48:16.732Z"
   },
   {
    "duration": 1552,
    "start_time": "2024-08-20T14:48:25.745Z"
   },
   {
    "duration": 45,
    "start_time": "2024-08-20T14:48:27.300Z"
   },
   {
    "duration": 18,
    "start_time": "2024-08-20T14:48:27.348Z"
   },
   {
    "duration": 79,
    "start_time": "2024-08-20T14:48:27.369Z"
   },
   {
    "duration": 7,
    "start_time": "2024-08-20T14:48:27.452Z"
   },
   {
    "duration": 56,
    "start_time": "2024-08-20T14:48:27.462Z"
   },
   {
    "duration": 10,
    "start_time": "2024-08-20T14:48:27.522Z"
   },
   {
    "duration": 15,
    "start_time": "2024-08-20T14:48:27.535Z"
   },
   {
    "duration": 6,
    "start_time": "2024-08-20T14:48:27.553Z"
   },
   {
    "duration": 63,
    "start_time": "2024-08-20T14:48:27.563Z"
   },
   {
    "duration": 7,
    "start_time": "2024-08-20T14:48:27.629Z"
   },
   {
    "duration": 11,
    "start_time": "2024-08-20T14:48:27.639Z"
   },
   {
    "duration": 59,
    "start_time": "2024-08-20T14:48:27.653Z"
   },
   {
    "duration": 1324,
    "start_time": "2024-08-20T14:48:27.718Z"
   },
   {
    "duration": 27,
    "start_time": "2024-08-20T14:48:29.046Z"
   },
   {
    "duration": 1072,
    "start_time": "2024-08-20T14:48:29.113Z"
   },
   {
    "duration": 60,
    "start_time": "2024-08-20T14:48:30.188Z"
   },
   {
    "duration": 3654,
    "start_time": "2024-08-20T14:48:30.251Z"
   },
   {
    "duration": 541,
    "start_time": "2024-08-20T14:48:33.911Z"
   },
   {
    "duration": 0,
    "start_time": "2024-08-20T14:48:34.454Z"
   },
   {
    "duration": 0,
    "start_time": "2024-08-20T14:48:34.457Z"
   },
   {
    "duration": 0,
    "start_time": "2024-08-20T14:48:34.459Z"
   },
   {
    "duration": 0,
    "start_time": "2024-08-20T14:48:34.462Z"
   },
   {
    "duration": 0,
    "start_time": "2024-08-20T14:48:34.465Z"
   },
   {
    "duration": 0,
    "start_time": "2024-08-20T14:48:34.467Z"
   },
   {
    "duration": 0,
    "start_time": "2024-08-20T14:48:34.470Z"
   },
   {
    "duration": 0,
    "start_time": "2024-08-20T14:48:34.473Z"
   },
   {
    "duration": 0,
    "start_time": "2024-08-20T14:48:34.476Z"
   },
   {
    "duration": 6,
    "start_time": "2024-08-20T14:50:17.854Z"
   },
   {
    "duration": 80,
    "start_time": "2024-08-20T14:50:20.596Z"
   },
   {
    "duration": 6,
    "start_time": "2024-08-20T14:50:28.686Z"
   },
   {
    "duration": 28,
    "start_time": "2024-08-20T14:50:34.629Z"
   },
   {
    "duration": 214,
    "start_time": "2024-08-20T14:50:35.030Z"
   },
   {
    "duration": 29,
    "start_time": "2024-08-20T14:50:35.276Z"
   },
   {
    "duration": 1232,
    "start_time": "2024-08-20T14:50:35.692Z"
   },
   {
    "duration": 32,
    "start_time": "2024-08-20T14:50:38.437Z"
   },
   {
    "duration": 34,
    "start_time": "2024-08-20T14:50:41.760Z"
   },
   {
    "duration": 5,
    "start_time": "2024-08-20T17:33:42.934Z"
   },
   {
    "duration": 66,
    "start_time": "2024-08-20T17:33:43.577Z"
   },
   {
    "duration": 16,
    "start_time": "2024-08-20T17:33:45.047Z"
   },
   {
    "duration": 49,
    "start_time": "2024-08-20T17:33:46.415Z"
   },
   {
    "duration": 7,
    "start_time": "2024-08-20T17:33:47.285Z"
   },
   {
    "duration": 34,
    "start_time": "2024-08-20T17:33:47.848Z"
   },
   {
    "duration": 10,
    "start_time": "2024-08-20T17:33:48.770Z"
   },
   {
    "duration": 15,
    "start_time": "2024-08-20T17:33:49.942Z"
   },
   {
    "duration": 7,
    "start_time": "2024-08-20T17:33:50.570Z"
   },
   {
    "duration": 25,
    "start_time": "2024-08-20T17:33:51.607Z"
   },
   {
    "duration": 9,
    "start_time": "2024-08-20T17:33:54.176Z"
   },
   {
    "duration": 10,
    "start_time": "2024-08-20T17:33:55.092Z"
   },
   {
    "duration": 18,
    "start_time": "2024-08-20T17:33:55.993Z"
   },
   {
    "duration": 1317,
    "start_time": "2024-08-20T17:33:56.870Z"
   },
   {
    "duration": 26,
    "start_time": "2024-08-20T17:33:59.120Z"
   },
   {
    "duration": 1010,
    "start_time": "2024-08-20T17:34:00.835Z"
   },
   {
    "duration": 48,
    "start_time": "2024-08-20T17:34:02.026Z"
   },
   {
    "duration": 3589,
    "start_time": "2024-08-20T17:34:03.716Z"
   },
   {
    "duration": 7,
    "start_time": "2024-08-20T17:34:07.317Z"
   },
   {
    "duration": 79,
    "start_time": "2024-08-20T17:34:08.500Z"
   },
   {
    "duration": 81,
    "start_time": "2024-08-20T17:35:38.057Z"
   },
   {
    "duration": 20,
    "start_time": "2024-08-20T17:36:20.289Z"
   },
   {
    "duration": 2482,
    "start_time": "2024-08-20T17:36:25.249Z"
   },
   {
    "duration": 2509,
    "start_time": "2024-08-20T17:36:56.538Z"
   },
   {
    "duration": 77,
    "start_time": "2024-08-20T17:36:59.051Z"
   },
   {
    "duration": 175,
    "start_time": "2024-08-20T17:36:59.131Z"
   },
   {
    "duration": 1278,
    "start_time": "2024-08-20T17:37:00.139Z"
   },
   {
    "duration": 23851252,
    "start_time": "2024-08-20T17:37:04.205Z"
   },
   {
    "duration": 3317848,
    "start_time": "2024-08-21T00:14:35.460Z"
   },
   {
    "duration": 3749,
    "start_time": "2024-08-21T01:09:53.314Z"
   },
   {
    "duration": 13,
    "start_time": "2024-08-21T01:09:57.069Z"
   },
   {
    "duration": 1273,
    "start_time": "2024-08-21T01:09:57.087Z"
   },
   {
    "duration": 85,
    "start_time": "2024-08-21T01:55:17.498Z"
   },
   {
    "duration": 1462,
    "start_time": "2024-08-21T01:55:27.912Z"
   },
   {
    "duration": 7,
    "start_time": "2024-08-21T01:56:07.309Z"
   },
   {
    "duration": 82,
    "start_time": "2024-08-21T01:56:07.723Z"
   },
   {
    "duration": 98,
    "start_time": "2024-08-21T01:56:08.392Z"
   },
   {
    "duration": 5,
    "start_time": "2024-08-21T01:57:15.510Z"
   },
   {
    "duration": 3699,
    "start_time": "2024-08-21T01:58:05.140Z"
   },
   {
    "duration": 82,
    "start_time": "2024-08-21T01:58:28.804Z"
   },
   {
    "duration": 1279,
    "start_time": "2024-08-21T01:58:34.938Z"
   },
   {
    "duration": 79,
    "start_time": "2024-08-21T02:00:06.514Z"
   },
   {
    "duration": 15,
    "start_time": "2024-08-21T02:00:18.122Z"
   },
   {
    "duration": 69,
    "start_time": "2024-08-21T02:00:33.628Z"
   },
   {
    "duration": 75,
    "start_time": "2024-08-21T02:00:54.892Z"
   },
   {
    "duration": 13,
    "start_time": "2024-08-21T02:01:20.895Z"
   },
   {
    "duration": 52,
    "start_time": "2024-08-21T02:01:35.506Z"
   },
   {
    "duration": 56,
    "start_time": "2024-08-21T02:02:28.748Z"
   },
   {
    "duration": 53,
    "start_time": "2024-08-21T02:02:30.273Z"
   },
   {
    "duration": 5,
    "start_time": "2024-08-21T02:03:05.686Z"
   },
   {
    "duration": 85,
    "start_time": "2024-08-21T02:03:06.032Z"
   },
   {
    "duration": 14,
    "start_time": "2024-08-21T02:03:06.344Z"
   },
   {
    "duration": 55,
    "start_time": "2024-08-21T02:03:06.662Z"
   },
   {
    "duration": 58,
    "start_time": "2024-08-21T02:03:07.871Z"
   },
   {
    "duration": 56,
    "start_time": "2024-08-21T02:03:08.645Z"
   },
   {
    "duration": 333,
    "start_time": "2024-08-21T02:03:29.695Z"
   },
   {
    "duration": 76,
    "start_time": "2024-08-21T02:04:35.972Z"
   },
   {
    "duration": 13,
    "start_time": "2024-08-21T02:04:49.117Z"
   },
   {
    "duration": 3,
    "start_time": "2024-08-21T02:04:58.350Z"
   },
   {
    "duration": 4,
    "start_time": "2024-08-21T02:05:06.001Z"
   },
   {
    "duration": 139,
    "start_time": "2024-08-21T02:05:17.542Z"
   },
   {
    "duration": 211,
    "start_time": "2024-08-21T02:06:27.099Z"
   },
   {
    "duration": 66,
    "start_time": "2024-08-21T02:16:21.923Z"
   },
   {
    "duration": 99,
    "start_time": "2024-08-21T02:16:27.427Z"
   },
   {
    "duration": 5,
    "start_time": "2024-08-21T02:16:35.519Z"
   },
   {
    "duration": 35,
    "start_time": "2024-08-21T02:16:36.220Z"
   },
   {
    "duration": 16,
    "start_time": "2024-08-21T02:16:36.486Z"
   },
   {
    "duration": 61,
    "start_time": "2024-08-21T02:16:36.746Z"
   },
   {
    "duration": 7,
    "start_time": "2024-08-21T02:16:37.002Z"
   },
   {
    "duration": 36,
    "start_time": "2024-08-21T02:16:37.251Z"
   },
   {
    "duration": 10,
    "start_time": "2024-08-21T02:16:37.484Z"
   },
   {
    "duration": 16,
    "start_time": "2024-08-21T02:16:37.877Z"
   },
   {
    "duration": 6,
    "start_time": "2024-08-21T02:16:38.259Z"
   },
   {
    "duration": 24,
    "start_time": "2024-08-21T02:16:40.615Z"
   },
   {
    "duration": 6,
    "start_time": "2024-08-21T02:16:43.253Z"
   },
   {
    "duration": 10,
    "start_time": "2024-08-21T02:16:45.555Z"
   },
   {
    "duration": 19,
    "start_time": "2024-08-21T02:16:45.995Z"
   },
   {
    "duration": 1313,
    "start_time": "2024-08-21T02:16:48.015Z"
   },
   {
    "duration": 5,
    "start_time": "2024-08-21T02:16:56.804Z"
   },
   {
    "duration": 15,
    "start_time": "2024-08-21T02:17:30.268Z"
   },
   {
    "duration": 17,
    "start_time": "2024-08-21T02:18:23.605Z"
   },
   {
    "duration": 19,
    "start_time": "2024-08-21T03:06:10.153Z"
   },
   {
    "duration": 9,
    "start_time": "2024-08-21T03:06:30.649Z"
   },
   {
    "duration": 11,
    "start_time": "2024-08-21T03:06:51.225Z"
   },
   {
    "duration": 16,
    "start_time": "2024-08-21T03:07:04.880Z"
   },
   {
    "duration": 965,
    "start_time": "2024-08-21T03:08:03.001Z"
   },
   {
    "duration": 54,
    "start_time": "2024-08-21T03:08:24.696Z"
   },
   {
    "duration": 979,
    "start_time": "2024-08-21T03:08:46.244Z"
   },
   {
    "duration": 982,
    "start_time": "2024-08-21T03:08:55.243Z"
   },
   {
    "duration": 56,
    "start_time": "2024-08-21T03:08:56.228Z"
   },
   {
    "duration": 6,
    "start_time": "2024-08-21T03:12:15.163Z"
   },
   {
    "duration": 8,
    "start_time": "2024-08-21T03:13:00.525Z"
   },
   {
    "duration": 1108,
    "start_time": "2024-08-21T03:14:18.767Z"
   },
   {
    "duration": 18699,
    "start_time": "2024-08-21T03:15:26.533Z"
   },
   {
    "duration": 1046221,
    "start_time": "2024-08-21T04:30:32.826Z"
   },
   {
    "duration": 156,
    "start_time": "2024-08-21T05:21:24.157Z"
   },
   {
    "duration": 70,
    "start_time": "2024-08-21T05:28:29.275Z"
   },
   {
    "duration": 166,
    "start_time": "2024-08-21T05:28:32.291Z"
   },
   {
    "duration": 71,
    "start_time": "2024-08-21T05:28:33.995Z"
   },
   {
    "duration": 17,
    "start_time": "2024-08-21T05:29:19.805Z"
   },
   {
    "duration": 24,
    "start_time": "2024-08-21T05:29:24.763Z"
   },
   {
    "duration": 4656,
    "start_time": "2024-08-21T05:30:03.391Z"
   },
   {
    "duration": 30,
    "start_time": "2024-08-21T05:30:10.857Z"
   },
   {
    "duration": 4152,
    "start_time": "2024-08-21T05:30:16.392Z"
   },
   {
    "duration": 27,
    "start_time": "2024-08-21T05:30:20.549Z"
   },
   {
    "duration": 996,
    "start_time": "2024-08-21T05:37:02.211Z"
   },
   {
    "duration": 186,
    "start_time": "2024-08-21T05:52:40.635Z"
   },
   {
    "duration": 4485,
    "start_time": "2024-08-21T06:05:40.043Z"
   },
   {
    "duration": 6,
    "start_time": "2024-08-21T06:15:48.853Z"
   },
   {
    "duration": 22451,
    "start_time": "2024-08-21T06:16:16.965Z"
   },
   {
    "duration": 25,
    "start_time": "2024-08-21T07:46:41.107Z"
   },
   {
    "duration": 25,
    "start_time": "2024-08-21T08:11:13.619Z"
   },
   {
    "duration": 1237,
    "start_time": "2024-08-21T08:15:01.732Z"
   },
   {
    "duration": 1140,
    "start_time": "2024-08-21T08:15:02.972Z"
   },
   {
    "duration": 3,
    "start_time": "2024-08-21T08:24:25.432Z"
   },
   {
    "duration": 3,
    "start_time": "2024-08-21T08:39:46.941Z"
   },
   {
    "duration": 978,
    "start_time": "2024-08-21T08:43:09.385Z"
   },
   {
    "duration": 184,
    "start_time": "2024-08-21T08:43:47.884Z"
   },
   {
    "duration": 187,
    "start_time": "2024-08-21T08:45:20.251Z"
   },
   {
    "duration": 22,
    "start_time": "2024-08-21T09:59:48.124Z"
   },
   {
    "duration": 793,
    "start_time": "2024-08-21T09:59:50.827Z"
   },
   {
    "duration": 978,
    "start_time": "2024-08-21T09:59:57.787Z"
   },
   {
    "duration": 186,
    "start_time": "2024-08-21T10:00:06.765Z"
   },
   {
    "duration": 2749,
    "start_time": "2024-08-21T10:00:56.800Z"
   },
   {
    "duration": 39,
    "start_time": "2024-08-21T10:01:05.295Z"
   },
   {
    "duration": 2480,
    "start_time": "2024-08-21T10:01:10.456Z"
   },
   {
    "duration": 57,
    "start_time": "2024-08-21T10:01:23.616Z"
   },
   {
    "duration": 188,
    "start_time": "2024-08-21T10:04:38.573Z"
   },
   {
    "duration": 56,
    "start_time": "2024-08-21T10:17:05.006Z"
   },
   {
    "duration": 439,
    "start_time": "2024-08-21T10:27:07.118Z"
   },
   {
    "duration": 373,
    "start_time": "2024-08-21T10:27:58.754Z"
   },
   {
    "duration": 52,
    "start_time": "2024-08-21T10:47:10.044Z"
   },
   {
    "duration": 4,
    "start_time": "2024-08-21T10:47:11.524Z"
   },
   {
    "duration": 27,
    "start_time": "2024-08-21T10:47:12.183Z"
   },
   {
    "duration": 236,
    "start_time": "2024-08-21T10:47:14.029Z"
   },
   {
    "duration": 263,
    "start_time": "2024-08-21T10:59:34.120Z"
   },
   {
    "duration": 88,
    "start_time": "2024-08-21T11:00:17.755Z"
   },
   {
    "duration": 48,
    "start_time": "2024-08-21T11:02:46.426Z"
   },
   {
    "duration": 29,
    "start_time": "2024-08-21T11:02:56.605Z"
   },
   {
    "duration": 96,
    "start_time": "2024-08-21T11:04:59.026Z"
   },
   {
    "duration": 6,
    "start_time": "2024-08-21T11:05:14.876Z"
   },
   {
    "duration": 34,
    "start_time": "2024-08-21T11:05:16.492Z"
   },
   {
    "duration": 19,
    "start_time": "2024-08-21T11:05:17.184Z"
   },
   {
    "duration": 48,
    "start_time": "2024-08-21T11:05:18.804Z"
   },
   {
    "duration": 7,
    "start_time": "2024-08-21T11:05:19.035Z"
   },
   {
    "duration": 36,
    "start_time": "2024-08-21T11:05:19.266Z"
   },
   {
    "duration": 10,
    "start_time": "2024-08-21T11:05:19.498Z"
   },
   {
    "duration": 17,
    "start_time": "2024-08-21T11:05:22.090Z"
   },
   {
    "duration": 7,
    "start_time": "2024-08-21T11:05:22.707Z"
   },
   {
    "duration": 24,
    "start_time": "2024-08-21T11:05:26.989Z"
   },
   {
    "duration": 93,
    "start_time": "2024-08-21T11:05:32.678Z"
   },
   {
    "duration": 460,
    "start_time": "2024-08-21T11:05:54.383Z"
   },
   {
    "duration": 84,
    "start_time": "2024-08-21T11:10:09.553Z"
   },
   {
    "duration": 54,
    "start_time": "2024-08-21T11:10:58.874Z"
   },
   {
    "duration": 4,
    "start_time": "2024-08-21T11:11:05.883Z"
   },
   {
    "duration": 25,
    "start_time": "2024-08-21T11:11:13.636Z"
   },
   {
    "duration": 5605,
    "start_time": "2024-08-21T17:23:39.413Z"
   },
   {
    "duration": 60,
    "start_time": "2024-08-21T17:23:45.022Z"
   },
   {
    "duration": 28,
    "start_time": "2024-08-21T17:23:45.085Z"
   },
   {
    "duration": 56,
    "start_time": "2024-08-21T17:23:45.118Z"
   },
   {
    "duration": 32,
    "start_time": "2024-08-21T17:23:45.179Z"
   },
   {
    "duration": 45,
    "start_time": "2024-08-21T17:23:45.214Z"
   },
   {
    "duration": 14,
    "start_time": "2024-08-21T17:23:45.264Z"
   },
   {
    "duration": 22,
    "start_time": "2024-08-21T17:23:45.310Z"
   },
   {
    "duration": 8,
    "start_time": "2024-08-21T17:23:45.336Z"
   },
   {
    "duration": 75,
    "start_time": "2024-08-21T17:23:45.350Z"
   },
   {
    "duration": 7,
    "start_time": "2024-08-21T17:23:45.430Z"
   },
   {
    "duration": 17,
    "start_time": "2024-08-21T17:23:45.441Z"
   },
   {
    "duration": 58,
    "start_time": "2024-08-21T17:23:45.461Z"
   },
   {
    "duration": 21,
    "start_time": "2024-08-21T17:23:45.530Z"
   },
   {
    "duration": 10,
    "start_time": "2024-08-21T17:23:45.555Z"
   },
   {
    "duration": 60,
    "start_time": "2024-08-21T17:23:45.568Z"
   },
   {
    "duration": 1132,
    "start_time": "2024-08-21T17:23:45.632Z"
   },
   {
    "duration": 78,
    "start_time": "2024-08-21T17:23:46.767Z"
   },
   {
    "duration": 9,
    "start_time": "2024-08-21T17:23:46.849Z"
   },
   {
    "duration": 0,
    "start_time": "2024-08-21T17:23:46.861Z"
   },
   {
    "duration": 0,
    "start_time": "2024-08-21T17:23:46.864Z"
   },
   {
    "duration": 0,
    "start_time": "2024-08-21T17:23:46.866Z"
   },
   {
    "duration": 0,
    "start_time": "2024-08-21T17:23:46.870Z"
   },
   {
    "duration": 0,
    "start_time": "2024-08-21T17:23:46.872Z"
   },
   {
    "duration": 0,
    "start_time": "2024-08-21T17:23:46.875Z"
   },
   {
    "duration": 0,
    "start_time": "2024-08-21T17:23:46.877Z"
   },
   {
    "duration": 1,
    "start_time": "2024-08-21T17:23:46.909Z"
   },
   {
    "duration": 0,
    "start_time": "2024-08-21T17:23:46.913Z"
   },
   {
    "duration": 2278,
    "start_time": "2024-08-21T17:27:17.042Z"
   },
   {
    "duration": 1061798,
    "start_time": "2024-08-21T17:27:20.417Z"
   },
   {
    "duration": 994,
    "start_time": "2024-08-21T17:45:02.218Z"
   },
   {
    "duration": 200,
    "start_time": "2024-08-21T17:45:03.216Z"
   },
   {
    "duration": 15,
    "start_time": "2024-08-21T17:45:03.421Z"
   },
   {
    "duration": 1880,
    "start_time": "2024-08-21T17:45:03.439Z"
   },
   {
    "duration": 54,
    "start_time": "2024-08-21T17:45:05.322Z"
   },
   {
    "duration": 513,
    "start_time": "2024-08-21T17:45:05.379Z"
   },
   {
    "duration": 233,
    "start_time": "2024-08-21T17:45:05.895Z"
   },
   {
    "duration": 1663,
    "start_time": "2024-08-21T18:07:42.537Z"
   },
   {
    "duration": 42,
    "start_time": "2024-08-21T18:07:44.208Z"
   },
   {
    "duration": 17,
    "start_time": "2024-08-21T18:07:44.253Z"
   },
   {
    "duration": 76,
    "start_time": "2024-08-21T18:07:44.273Z"
   },
   {
    "duration": 7,
    "start_time": "2024-08-21T18:07:44.353Z"
   },
   {
    "duration": 54,
    "start_time": "2024-08-21T18:07:44.364Z"
   },
   {
    "duration": 11,
    "start_time": "2024-08-21T18:07:44.420Z"
   },
   {
    "duration": 16,
    "start_time": "2024-08-21T18:07:44.434Z"
   },
   {
    "duration": 7,
    "start_time": "2024-08-21T18:07:44.452Z"
   },
   {
    "duration": 69,
    "start_time": "2024-08-21T18:07:44.462Z"
   },
   {
    "duration": 6,
    "start_time": "2024-08-21T18:07:44.535Z"
   },
   {
    "duration": 15,
    "start_time": "2024-08-21T18:07:44.546Z"
   },
   {
    "duration": 54,
    "start_time": "2024-08-21T18:07:44.569Z"
   },
   {
    "duration": 20,
    "start_time": "2024-08-21T18:07:44.631Z"
   },
   {
    "duration": 3,
    "start_time": "2024-08-21T18:07:44.656Z"
   },
   {
    "duration": 55,
    "start_time": "2024-08-21T18:07:44.662Z"
   },
   {
    "duration": 1129,
    "start_time": "2024-08-21T18:07:44.720Z"
   },
   {
    "duration": 63,
    "start_time": "2024-08-21T18:07:45.851Z"
   },
   {
    "duration": 2248,
    "start_time": "2024-08-21T18:07:45.917Z"
   },
   {
    "duration": 1081941,
    "start_time": "2024-08-21T18:07:48.168Z"
   },
   {
    "duration": 990,
    "start_time": "2024-08-21T18:25:50.112Z"
   },
   {
    "duration": 192,
    "start_time": "2024-08-21T18:25:51.105Z"
   },
   {
    "duration": 19,
    "start_time": "2024-08-21T18:25:51.300Z"
   },
   {
    "duration": 1876,
    "start_time": "2024-08-21T18:25:51.322Z"
   },
   {
    "duration": 58,
    "start_time": "2024-08-21T18:25:53.201Z"
   },
   {
    "duration": 465,
    "start_time": "2024-08-21T18:25:53.262Z"
   },
   {
    "duration": 230,
    "start_time": "2024-08-21T18:25:53.731Z"
   },
   {
    "duration": 1656,
    "start_time": "2024-08-21T18:52:59.811Z"
   },
   {
    "duration": 51,
    "start_time": "2024-08-21T18:53:01.470Z"
   },
   {
    "duration": 17,
    "start_time": "2024-08-21T18:53:01.525Z"
   },
   {
    "duration": 74,
    "start_time": "2024-08-21T18:53:01.546Z"
   },
   {
    "duration": 7,
    "start_time": "2024-08-21T18:53:01.625Z"
   },
   {
    "duration": 37,
    "start_time": "2024-08-21T18:53:01.635Z"
   },
   {
    "duration": 35,
    "start_time": "2024-08-21T18:53:01.676Z"
   },
   {
    "duration": 16,
    "start_time": "2024-08-21T18:53:01.714Z"
   },
   {
    "duration": 9,
    "start_time": "2024-08-21T18:53:01.733Z"
   },
   {
    "duration": 61,
    "start_time": "2024-08-21T18:53:01.749Z"
   },
   {
    "duration": 7,
    "start_time": "2024-08-21T18:53:01.813Z"
   },
   {
    "duration": 15,
    "start_time": "2024-08-21T18:53:01.822Z"
   },
   {
    "duration": 19,
    "start_time": "2024-08-21T18:53:01.840Z"
   },
   {
    "duration": 61,
    "start_time": "2024-08-21T18:53:01.862Z"
   },
   {
    "duration": 12,
    "start_time": "2024-08-21T18:53:01.926Z"
   },
   {
    "duration": 69,
    "start_time": "2024-08-21T18:53:01.940Z"
   },
   {
    "duration": 1042,
    "start_time": "2024-08-21T18:53:02.012Z"
   },
   {
    "duration": 64,
    "start_time": "2024-08-21T18:53:03.057Z"
   },
   {
    "duration": 2615,
    "start_time": "2024-08-21T18:53:03.124Z"
   },
   {
    "duration": 1118513,
    "start_time": "2024-08-21T18:53:05.742Z"
   },
   {
    "duration": 1098,
    "start_time": "2024-08-21T19:11:44.259Z"
   },
   {
    "duration": 204,
    "start_time": "2024-08-21T19:11:45.360Z"
   },
   {
    "duration": 16,
    "start_time": "2024-08-21T19:11:45.567Z"
   },
   {
    "duration": 1948,
    "start_time": "2024-08-21T19:11:45.587Z"
   },
   {
    "duration": 55,
    "start_time": "2024-08-21T19:11:47.537Z"
   },
   {
    "duration": 508,
    "start_time": "2024-08-21T19:11:47.609Z"
   },
   {
    "duration": 243,
    "start_time": "2024-08-21T19:11:48.120Z"
   },
   {
    "duration": 184,
    "start_time": "2024-08-21T20:29:45.951Z"
   },
   {
    "duration": 13,
    "start_time": "2024-08-21T20:32:22.432Z"
   },
   {
    "duration": 1811,
    "start_time": "2024-08-21T20:32:25.697Z"
   },
   {
    "duration": 56,
    "start_time": "2024-08-21T20:32:38.416Z"
   },
   {
    "duration": 151,
    "start_time": "2024-08-21T20:36:44.815Z"
   },
   {
    "duration": 8,
    "start_time": "2024-08-21T20:41:53.026Z"
   },
   {
    "duration": 240,
    "start_time": "2024-08-21T20:42:01.557Z"
   },
   {
    "duration": 608,
    "start_time": "2024-08-21T20:46:43.399Z"
   },
   {
    "duration": 1065,
    "start_time": "2024-08-21T20:58:10.012Z"
   },
   {
    "duration": 7998,
    "start_time": "2024-08-21T20:58:21.241Z"
   },
   {
    "duration": 366,
    "start_time": "2024-08-21T20:58:47.162Z"
   },
   {
    "duration": 544,
    "start_time": "2024-08-21T20:58:48.680Z"
   },
   {
    "duration": 56,
    "start_time": "2024-08-21T21:01:24.460Z"
   },
   {
    "duration": 55,
    "start_time": "2024-08-21T21:06:09.174Z"
   },
   {
    "duration": 2495,
    "start_time": "2024-08-21T21:07:28.834Z"
   },
   {
    "duration": 13516,
    "start_time": "2024-08-21T21:07:43.998Z"
   },
   {
    "duration": 1441,
    "start_time": "2024-08-21T22:13:11.906Z"
   },
   {
    "duration": 1446,
    "start_time": "2024-08-21T22:16:32.998Z"
   },
   {
    "duration": 82,
    "start_time": "2024-08-21T22:16:45.010Z"
   },
   {
    "duration": 141,
    "start_time": "2024-08-21T22:16:54.102Z"
   },
   {
    "duration": 14,
    "start_time": "2024-08-21T22:24:55.241Z"
   },
   {
    "duration": 3087,
    "start_time": "2024-08-21T22:25:06.561Z"
   },
   {
    "duration": 221,
    "start_time": "2024-08-21T22:25:15.288Z"
   },
   {
    "duration": 12,
    "start_time": "2024-08-21T22:25:26.377Z"
   },
   {
    "duration": 11,
    "start_time": "2024-08-21T22:29:13.922Z"
   },
   {
    "duration": 394,
    "start_time": "2024-08-21T22:29:28.978Z"
   },
   {
    "duration": 24,
    "start_time": "2024-08-21T22:31:25.838Z"
   },
   {
    "duration": 24,
    "start_time": "2024-08-21T22:31:26.169Z"
   },
   {
    "duration": 14,
    "start_time": "2024-08-21T22:54:39.669Z"
   },
   {
    "duration": 3066,
    "start_time": "2024-08-21T22:54:41.197Z"
   },
   {
    "duration": 226,
    "start_time": "2024-08-21T22:54:44.269Z"
   },
   {
    "duration": 251,
    "start_time": "2024-08-21T22:54:44.499Z"
   },
   {
    "duration": 10,
    "start_time": "2024-08-21T22:54:44.754Z"
   },
   {
    "duration": 252,
    "start_time": "2024-08-21T22:54:44.767Z"
   },
   {
    "duration": 1141,
    "start_time": "2024-08-21T23:00:11.853Z"
   },
   {
    "duration": 1006,
    "start_time": "2024-08-21T23:00:24.968Z"
   },
   {
    "duration": 1094,
    "start_time": "2024-08-21T23:00:29.661Z"
   },
   {
    "duration": 288,
    "start_time": "2024-08-21T23:03:13.831Z"
   },
   {
    "duration": 226,
    "start_time": "2024-08-21T23:13:18.217Z"
   },
   {
    "duration": 232,
    "start_time": "2024-08-21T23:25:26.896Z"
   },
   {
    "duration": 401,
    "start_time": "2024-08-21T23:27:27.914Z"
   },
   {
    "duration": 288,
    "start_time": "2024-08-21T23:31:13.758Z"
   },
   {
    "duration": 6,
    "start_time": "2024-08-21T23:31:32.249Z"
   },
   {
    "duration": 122,
    "start_time": "2024-08-21T23:31:41.590Z"
   },
   {
    "duration": 397,
    "start_time": "2024-08-21T23:31:45.721Z"
   },
   {
    "duration": 120,
    "start_time": "2024-08-21T23:32:07.018Z"
   },
   {
    "duration": 126,
    "start_time": "2024-08-21T23:32:15.754Z"
   },
   {
    "duration": 396,
    "start_time": "2024-08-21T23:32:27.467Z"
   },
   {
    "duration": 131,
    "start_time": "2024-08-21T23:32:27.868Z"
   },
   {
    "duration": 7,
    "start_time": "2024-08-21T23:32:38.204Z"
   },
   {
    "duration": 35,
    "start_time": "2024-08-21T23:32:38.564Z"
   },
   {
    "duration": 17,
    "start_time": "2024-08-21T23:32:38.724Z"
   },
   {
    "duration": 52,
    "start_time": "2024-08-21T23:32:38.919Z"
   },
   {
    "duration": 8,
    "start_time": "2024-08-21T23:32:39.089Z"
   },
   {
    "duration": 34,
    "start_time": "2024-08-21T23:32:39.214Z"
   },
   {
    "duration": 11,
    "start_time": "2024-08-21T23:32:39.433Z"
   },
   {
    "duration": 15,
    "start_time": "2024-08-21T23:32:39.692Z"
   },
   {
    "duration": 7,
    "start_time": "2024-08-21T23:32:39.921Z"
   },
   {
    "duration": 24,
    "start_time": "2024-08-21T23:32:40.286Z"
   },
   {
    "duration": 463,
    "start_time": "2024-08-21T23:46:46.445Z"
   },
   {
    "duration": 367,
    "start_time": "2024-08-21T23:56:16.531Z"
   },
   {
    "duration": 235,
    "start_time": "2024-08-22T00:10:31.953Z"
   },
   {
    "duration": 260,
    "start_time": "2024-08-22T00:11:31.006Z"
   },
   {
    "duration": 243,
    "start_time": "2024-08-22T00:12:11.073Z"
   },
   {
    "duration": 36,
    "start_time": "2024-08-22T00:13:39.020Z"
   }
  ],
  "kernelspec": {
   "display_name": "Python 3 (ipykernel)",
   "language": "python",
   "name": "python3"
  },
  "language_info": {
   "codemirror_mode": {
    "name": "ipython",
    "version": 3
   },
   "file_extension": ".py",
   "mimetype": "text/x-python",
   "name": "python",
   "nbconvert_exporter": "python",
   "pygments_lexer": "ipython3",
   "version": "3.9.19"
  },
  "toc": {
   "base_numbering": 1,
   "nav_menu": {},
   "number_sections": true,
   "sideBar": true,
   "skip_h1_title": true,
   "title_cell": "Table of Contents",
   "title_sidebar": "Contents",
   "toc_cell": false,
   "toc_position": {},
   "toc_section_display": true,
   "toc_window_display": false
  }
 },
 "nbformat": 4,
 "nbformat_minor": 2
}
